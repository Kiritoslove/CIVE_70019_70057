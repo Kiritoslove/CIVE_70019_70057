{
 "cells": [
  {
   "cell_type": "markdown",
   "id": "7a749c17",
   "metadata": {
    "colab_type": "text",
    "id": "view-in-github"
   },
   "source": [
    "<a href=\"https://colab.research.google.com/github/bradleywjenks/CIVE_70019_70057/blob/main/notebooks/model_calibration_coursework.ipynb\" target=\"_parent\"><img src=\"https://colab.research.google.com/assets/colab-badge.svg\" alt=\"Open In Colab\"/></a>"
   ]
  },
  {
   "cell_type": "markdown",
   "id": "c3ea0ffc",
   "metadata": {
    "id": "c3ea0ffc"
   },
   "source": [
    "# Parameter estimation for hydraulic model calibration and fault detection\n",
    "\n",
    "\n",
    "### CIVE 70019/70057\n",
    "Department of Civil and Environmental Engineering, Imperial College London"
   ]
  },
  {
   "cell_type": "markdown",
   "id": "5eebea76",
   "metadata": {
    "id": "5eebea76"
   },
   "source": [
    "### Preamble\n",
    "You have been tasked with the evaluation and calibration of the hydraulic model of EXNING, a district metered area (DMA) in Anglian Water's (AW) water distribution network. To achieve this, you have been provided:\n",
    "* a hydraulic model of the EXNING DMA, in use by Anglian Water in early 2019 (no record of recent calibration),\n",
    "* pipe groups (based on material & age) and corresponding ranges of H-W coefficients,\n",
    "* hourly loading conditions (demands, reservoir heads) and head measurements covering a period of 4 days in December 2019.\n",
    "\n",
    "The objective of the coursework is to prepare a short calibration report for AW by completing the tasks below and answering the questions (max. 100-150 words per question) based on your results. Don't forget to include titles, labels and legends in your plots, and watch for significant figures in your reporting!"
   ]
  },
  {
   "cell_type": "markdown",
   "id": "1ecf250d",
   "metadata": {
    "id": "1ecf250d"
   },
   "source": [
    "You have also been provided the following information about EXNING:\n",
    "* EXNING is part of a larger system of cascading DMAs: EXNING is fed by the NEWSEV DMA and feeds into the BURWEL DMA.\n",
    "* According to AW's existing records, EXNING contains mostly old, cast iron pipes.\n",
    "* The \"reservoir\" head  and total demand of EXNING are derived from flow and pressure sensors at the DMA inlet (& outlet).\n",
    "* Node elevations have been updated in the provided model following a GPS survey of sensor locations."
   ]
  },
  {
   "cell_type": "markdown",
   "id": "e7aeb130",
   "metadata": {
    "id": "e7aeb130"
   },
   "source": [
    "First, we must clone the GitHub repository and install dependencies (only run this once)."
   ]
  },
  {
   "cell_type": "code",
   "execution_count": 1,
   "id": "XUkd0ndZ-Fy_",
   "metadata": {
    "colab": {
     "base_uri": "https://localhost:8080/"
    },
    "id": "XUkd0ndZ-Fy_",
    "outputId": "7c303270-3e88-4eba-cac9-1de5ab864592"
   },
   "outputs": [
    {
     "name": "stdout",
     "output_type": "stream",
     "text": [
      "Cloning into 'CIVE_70019_70057'...\n",
      "remote: Enumerating objects: 726, done.\u001b[K\n",
      "remote: Counting objects: 100% (110/110), done.\u001b[K\n",
      "remote: Compressing objects: 100% (89/89), done.\u001b[K\n",
      "remote: Total 726 (delta 66), reused 45 (delta 21), pack-reused 616\u001b[K\n",
      "Receiving objects: 100% (726/726), 10.88 MiB | 9.85 MiB/s, done.\n",
      "Resolving deltas: 100% (414/414), done.\n",
      "Collecting wntr\n",
      "  Downloading wntr-1.0.0-cp310-cp310-manylinux_2_17_x86_64.manylinux2014_x86_64.whl (4.2 MB)\n",
      "\u001b[2K     \u001b[90m━━━━━━━━━━━━━━━━━━━━━━━━━━━━━━━━━━━━━━━━\u001b[0m \u001b[32m4.2/4.2 MB\u001b[0m \u001b[31m11.1 MB/s\u001b[0m eta \u001b[36m0:00:00\u001b[0m\n",
      "\u001b[?25hRequirement already satisfied: numpy>=1.21 in /usr/local/lib/python3.10/dist-packages (from wntr) (1.23.5)\n",
      "Requirement already satisfied: scipy in /usr/local/lib/python3.10/dist-packages (from wntr) (1.11.3)\n",
      "Requirement already satisfied: networkx in /usr/local/lib/python3.10/dist-packages (from wntr) (3.2)\n",
      "Requirement already satisfied: pandas in /usr/local/lib/python3.10/dist-packages (from wntr) (1.5.3)\n",
      "Requirement already satisfied: matplotlib in /usr/local/lib/python3.10/dist-packages (from wntr) (3.7.1)\n",
      "Requirement already satisfied: contourpy>=1.0.1 in /usr/local/lib/python3.10/dist-packages (from matplotlib->wntr) (1.1.1)\n",
      "Requirement already satisfied: cycler>=0.10 in /usr/local/lib/python3.10/dist-packages (from matplotlib->wntr) (0.12.1)\n",
      "Requirement already satisfied: fonttools>=4.22.0 in /usr/local/lib/python3.10/dist-packages (from matplotlib->wntr) (4.43.1)\n",
      "Requirement already satisfied: kiwisolver>=1.0.1 in /usr/local/lib/python3.10/dist-packages (from matplotlib->wntr) (1.4.5)\n",
      "Requirement already satisfied: packaging>=20.0 in /usr/local/lib/python3.10/dist-packages (from matplotlib->wntr) (23.2)\n",
      "Requirement already satisfied: pillow>=6.2.0 in /usr/local/lib/python3.10/dist-packages (from matplotlib->wntr) (9.4.0)\n",
      "Requirement already satisfied: pyparsing>=2.3.1 in /usr/local/lib/python3.10/dist-packages (from matplotlib->wntr) (3.1.1)\n",
      "Requirement already satisfied: python-dateutil>=2.7 in /usr/local/lib/python3.10/dist-packages (from matplotlib->wntr) (2.8.2)\n",
      "Requirement already satisfied: pytz>=2020.1 in /usr/local/lib/python3.10/dist-packages (from pandas->wntr) (2023.3.post1)\n",
      "Requirement already satisfied: six>=1.5 in /usr/local/lib/python3.10/dist-packages (from python-dateutil>=2.7->matplotlib->wntr) (1.16.0)\n",
      "Installing collected packages: wntr\n",
      "Successfully installed wntr-1.0.0\n",
      "Requirement already satisfied: cvxpy in /usr/local/lib/python3.10/dist-packages (1.3.2)\n",
      "Requirement already satisfied: osqp>=0.4.1 in /usr/local/lib/python3.10/dist-packages (from cvxpy) (0.6.2.post8)\n",
      "Requirement already satisfied: ecos>=2 in /usr/local/lib/python3.10/dist-packages (from cvxpy) (2.0.12)\n",
      "Requirement already satisfied: scs>=1.1.6 in /usr/local/lib/python3.10/dist-packages (from cvxpy) (3.2.3)\n",
      "Requirement already satisfied: numpy>=1.15 in /usr/local/lib/python3.10/dist-packages (from cvxpy) (1.23.5)\n",
      "Requirement already satisfied: scipy>=1.1.0 in /usr/local/lib/python3.10/dist-packages (from cvxpy) (1.11.3)\n",
      "Requirement already satisfied: setuptools>65.5.1 in /usr/local/lib/python3.10/dist-packages (from cvxpy) (67.7.2)\n",
      "Requirement already satisfied: qdldl in /usr/local/lib/python3.10/dist-packages (from osqp>=0.4.1->cvxpy) (0.1.7.post0)\n",
      "Reading package lists... Done\n",
      "Building dependency tree... Done\n",
      "Reading state information... Done\n",
      "The following additional packages will be installed:\n",
      "  libamd2 libbtf1 libcamd2 libccolamd2 libcholmod3 libcolamd2 libcxsparse3 libgraphblas-dev\n",
      "  libgraphblas6 libklu1 libldl2 libmetis5 libmongoose2 librbio2 libsliplu1 libspqr2\n",
      "  libsuitesparseconfig5 libumfpack5\n",
      "The following NEW packages will be installed:\n",
      "  libamd2 libbtf1 libcamd2 libccolamd2 libcholmod3 libcolamd2 libcxsparse3 libgraphblas-dev\n",
      "  libgraphblas6 libklu1 libldl2 libmetis5 libmongoose2 librbio2 libsliplu1 libspqr2\n",
      "  libsuitesparse-dev libsuitesparseconfig5 libumfpack5\n",
      "0 upgraded, 19 newly installed, 0 to remove and 19 not upgraded.\n",
      "Need to get 22.4 MB of archives.\n",
      "After this operation, 169 MB of additional disk space will be used.\n",
      "Get:1 http://archive.ubuntu.com/ubuntu jammy/main amd64 libsuitesparseconfig5 amd64 1:5.10.1+dfsg-4build1 [10.4 kB]\n",
      "Get:2 http://archive.ubuntu.com/ubuntu jammy/universe amd64 libamd2 amd64 1:5.10.1+dfsg-4build1 [21.6 kB]\n",
      "Get:3 http://archive.ubuntu.com/ubuntu jammy/universe amd64 libbtf1 amd64 1:5.10.1+dfsg-4build1 [12.1 kB]\n",
      "Get:4 http://archive.ubuntu.com/ubuntu jammy/universe amd64 libcamd2 amd64 1:5.10.1+dfsg-4build1 [23.3 kB]\n",
      "Get:5 http://archive.ubuntu.com/ubuntu jammy/universe amd64 libccolamd2 amd64 1:5.10.1+dfsg-4build1 [25.2 kB]\n",
      "Get:6 http://archive.ubuntu.com/ubuntu jammy/main amd64 libcolamd2 amd64 1:5.10.1+dfsg-4build1 [18.0 kB]\n",
      "Get:7 http://archive.ubuntu.com/ubuntu jammy/universe amd64 libmetis5 amd64 5.1.0.dfsg-7build2 [181 kB]\n",
      "Get:8 http://archive.ubuntu.com/ubuntu jammy/universe amd64 libcholmod3 amd64 1:5.10.1+dfsg-4build1 [346 kB]\n",
      "Get:9 http://archive.ubuntu.com/ubuntu jammy/universe amd64 libcxsparse3 amd64 1:5.10.1+dfsg-4build1 [70.8 kB]\n",
      "Get:10 http://archive.ubuntu.com/ubuntu jammy/universe amd64 libgraphblas6 amd64 6.1.4+dfsg-2 [20.1 MB]\n",
      "Get:11 http://archive.ubuntu.com/ubuntu jammy/universe amd64 libgraphblas-dev amd64 6.1.4+dfsg-2 [54.4 kB]\n",
      "Get:12 http://archive.ubuntu.com/ubuntu jammy/universe amd64 libklu1 amd64 1:5.10.1+dfsg-4build1 [77.6 kB]\n",
      "Get:13 http://archive.ubuntu.com/ubuntu jammy/universe amd64 libldl2 amd64 1:5.10.1+dfsg-4build1 [11.7 kB]\n",
      "Get:14 http://archive.ubuntu.com/ubuntu jammy/universe amd64 libmongoose2 amd64 1:5.10.1+dfsg-4build1 [33.5 kB]\n",
      "Get:15 http://archive.ubuntu.com/ubuntu jammy/universe amd64 librbio2 amd64 1:5.10.1+dfsg-4build1 [26.6 kB]\n",
      "Get:16 http://archive.ubuntu.com/ubuntu jammy/universe amd64 libsliplu1 amd64 1:5.10.1+dfsg-4build1 [37.1 kB]\n",
      "Get:17 http://archive.ubuntu.com/ubuntu jammy/universe amd64 libspqr2 amd64 1:5.10.1+dfsg-4build1 [71.6 kB]\n",
      "Get:18 http://archive.ubuntu.com/ubuntu jammy/universe amd64 libumfpack5 amd64 1:5.10.1+dfsg-4build1 [250 kB]\n",
      "Get:19 http://archive.ubuntu.com/ubuntu jammy/universe amd64 libsuitesparse-dev amd64 1:5.10.1+dfsg-4build1 [1,058 kB]\n",
      "Fetched 22.4 MB in 3s (7,038 kB/s)\n",
      "Selecting previously unselected package libsuitesparseconfig5:amd64.\n",
      "(Reading database ... 120874 files and directories currently installed.)\n",
      "Preparing to unpack .../00-libsuitesparseconfig5_1%3a5.10.1+dfsg-4build1_amd64.deb ...\n",
      "Unpacking libsuitesparseconfig5:amd64 (1:5.10.1+dfsg-4build1) ...\n",
      "Selecting previously unselected package libamd2:amd64.\n",
      "Preparing to unpack .../01-libamd2_1%3a5.10.1+dfsg-4build1_amd64.deb ...\n",
      "Unpacking libamd2:amd64 (1:5.10.1+dfsg-4build1) ...\n",
      "Selecting previously unselected package libbtf1:amd64.\n",
      "Preparing to unpack .../02-libbtf1_1%3a5.10.1+dfsg-4build1_amd64.deb ...\n",
      "Unpacking libbtf1:amd64 (1:5.10.1+dfsg-4build1) ...\n",
      "Selecting previously unselected package libcamd2:amd64.\n",
      "Preparing to unpack .../03-libcamd2_1%3a5.10.1+dfsg-4build1_amd64.deb ...\n",
      "Unpacking libcamd2:amd64 (1:5.10.1+dfsg-4build1) ...\n",
      "Selecting previously unselected package libccolamd2:amd64.\n",
      "Preparing to unpack .../04-libccolamd2_1%3a5.10.1+dfsg-4build1_amd64.deb ...\n",
      "Unpacking libccolamd2:amd64 (1:5.10.1+dfsg-4build1) ...\n",
      "Selecting previously unselected package libcolamd2:amd64.\n",
      "Preparing to unpack .../05-libcolamd2_1%3a5.10.1+dfsg-4build1_amd64.deb ...\n",
      "Unpacking libcolamd2:amd64 (1:5.10.1+dfsg-4build1) ...\n",
      "Selecting previously unselected package libmetis5:amd64.\n",
      "Preparing to unpack .../06-libmetis5_5.1.0.dfsg-7build2_amd64.deb ...\n",
      "Unpacking libmetis5:amd64 (5.1.0.dfsg-7build2) ...\n",
      "Selecting previously unselected package libcholmod3:amd64.\n",
      "Preparing to unpack .../07-libcholmod3_1%3a5.10.1+dfsg-4build1_amd64.deb ...\n",
      "Unpacking libcholmod3:amd64 (1:5.10.1+dfsg-4build1) ...\n",
      "Selecting previously unselected package libcxsparse3:amd64.\n",
      "Preparing to unpack .../08-libcxsparse3_1%3a5.10.1+dfsg-4build1_amd64.deb ...\n",
      "Unpacking libcxsparse3:amd64 (1:5.10.1+dfsg-4build1) ...\n",
      "Selecting previously unselected package libgraphblas6:amd64.\n",
      "Preparing to unpack .../09-libgraphblas6_6.1.4+dfsg-2_amd64.deb ...\n",
      "Unpacking libgraphblas6:amd64 (6.1.4+dfsg-2) ...\n",
      "Selecting previously unselected package libgraphblas-dev:amd64.\n",
      "Preparing to unpack .../10-libgraphblas-dev_6.1.4+dfsg-2_amd64.deb ...\n",
      "Unpacking libgraphblas-dev:amd64 (6.1.4+dfsg-2) ...\n",
      "Selecting previously unselected package libklu1:amd64.\n",
      "Preparing to unpack .../11-libklu1_1%3a5.10.1+dfsg-4build1_amd64.deb ...\n",
      "Unpacking libklu1:amd64 (1:5.10.1+dfsg-4build1) ...\n",
      "Selecting previously unselected package libldl2:amd64.\n",
      "Preparing to unpack .../12-libldl2_1%3a5.10.1+dfsg-4build1_amd64.deb ...\n",
      "Unpacking libldl2:amd64 (1:5.10.1+dfsg-4build1) ...\n",
      "Selecting previously unselected package libmongoose2:amd64.\n",
      "Preparing to unpack .../13-libmongoose2_1%3a5.10.1+dfsg-4build1_amd64.deb ...\n",
      "Unpacking libmongoose2:amd64 (1:5.10.1+dfsg-4build1) ...\n",
      "Selecting previously unselected package librbio2:amd64.\n",
      "Preparing to unpack .../14-librbio2_1%3a5.10.1+dfsg-4build1_amd64.deb ...\n",
      "Unpacking librbio2:amd64 (1:5.10.1+dfsg-4build1) ...\n",
      "Selecting previously unselected package libsliplu1:amd64.\n",
      "Preparing to unpack .../15-libsliplu1_1%3a5.10.1+dfsg-4build1_amd64.deb ...\n",
      "Unpacking libsliplu1:amd64 (1:5.10.1+dfsg-4build1) ...\n",
      "Selecting previously unselected package libspqr2:amd64.\n",
      "Preparing to unpack .../16-libspqr2_1%3a5.10.1+dfsg-4build1_amd64.deb ...\n",
      "Unpacking libspqr2:amd64 (1:5.10.1+dfsg-4build1) ...\n",
      "Selecting previously unselected package libumfpack5:amd64.\n",
      "Preparing to unpack .../17-libumfpack5_1%3a5.10.1+dfsg-4build1_amd64.deb ...\n",
      "Unpacking libumfpack5:amd64 (1:5.10.1+dfsg-4build1) ...\n",
      "Selecting previously unselected package libsuitesparse-dev:amd64.\n",
      "Preparing to unpack .../18-libsuitesparse-dev_1%3a5.10.1+dfsg-4build1_amd64.deb ...\n",
      "Unpacking libsuitesparse-dev:amd64 (1:5.10.1+dfsg-4build1) ...\n",
      "Setting up libgraphblas6:amd64 (6.1.4+dfsg-2) ...\n",
      "Setting up libldl2:amd64 (1:5.10.1+dfsg-4build1) ...\n",
      "Setting up libmetis5:amd64 (5.1.0.dfsg-7build2) ...\n",
      "Setting up libbtf1:amd64 (1:5.10.1+dfsg-4build1) ...\n",
      "Setting up libgraphblas-dev:amd64 (6.1.4+dfsg-2) ...\n",
      "Setting up libcxsparse3:amd64 (1:5.10.1+dfsg-4build1) ...\n",
      "Setting up libsuitesparseconfig5:amd64 (1:5.10.1+dfsg-4build1) ...\n",
      "Setting up librbio2:amd64 (1:5.10.1+dfsg-4build1) ...\n",
      "Setting up libamd2:amd64 (1:5.10.1+dfsg-4build1) ...\n",
      "Setting up libcolamd2:amd64 (1:5.10.1+dfsg-4build1) ...\n",
      "Setting up libsliplu1:amd64 (1:5.10.1+dfsg-4build1) ...\n",
      "Setting up libcamd2:amd64 (1:5.10.1+dfsg-4build1) ...\n",
      "Setting up libmongoose2:amd64 (1:5.10.1+dfsg-4build1) ...\n",
      "Setting up libklu1:amd64 (1:5.10.1+dfsg-4build1) ...\n",
      "Setting up libccolamd2:amd64 (1:5.10.1+dfsg-4build1) ...\n",
      "Setting up libcholmod3:amd64 (1:5.10.1+dfsg-4build1) ...\n",
      "Setting up libspqr2:amd64 (1:5.10.1+dfsg-4build1) ...\n",
      "Setting up libumfpack5:amd64 (1:5.10.1+dfsg-4build1) ...\n",
      "Setting up libsuitesparse-dev:amd64 (1:5.10.1+dfsg-4build1) ...\n",
      "Processing triggers for libc-bin (2.35-0ubuntu3.1) ...\n",
      "/sbin/ldconfig.real: /usr/local/lib/libtbb.so.12 is not a symbolic link\n",
      "\n",
      "/sbin/ldconfig.real: /usr/local/lib/libtbbbind_2_0.so.3 is not a symbolic link\n",
      "\n",
      "/sbin/ldconfig.real: /usr/local/lib/libtbbbind.so.3 is not a symbolic link\n",
      "\n",
      "/sbin/ldconfig.real: /usr/local/lib/libtbbmalloc_proxy.so.2 is not a symbolic link\n",
      "\n",
      "/sbin/ldconfig.real: /usr/local/lib/libtbbbind_2_5.so.3 is not a symbolic link\n",
      "\n",
      "/sbin/ldconfig.real: /usr/local/lib/libtbbmalloc.so.2 is not a symbolic link\n",
      "\n",
      "Collecting scikit-sparse\n",
      "  Downloading scikit-sparse-0.4.12.tar.gz (214 kB)\n",
      "\u001b[2K     \u001b[90m━━━━━━━━━━━━━━━━━━━━━━━━━━━━━━━━━━━━━━━━\u001b[0m \u001b[32m214.1/214.1 kB\u001b[0m \u001b[31m3.4 MB/s\u001b[0m eta \u001b[36m0:00:00\u001b[0m\n",
      "\u001b[?25h  Installing build dependencies ... \u001b[?25l\u001b[?25hdone\n",
      "  Getting requirements to build wheel ... \u001b[?25l\u001b[?25hdone\n",
      "  Preparing metadata (pyproject.toml) ... \u001b[?25l\u001b[?25hdone\n",
      "Requirement already satisfied: numpy>=1.13.3 in /usr/local/lib/python3.10/dist-packages (from scikit-sparse) (1.23.5)\n",
      "Requirement already satisfied: scipy>=0.19 in /usr/local/lib/python3.10/dist-packages (from scikit-sparse) (1.11.3)\n",
      "Building wheels for collected packages: scikit-sparse\n",
      "  Building wheel for scikit-sparse (pyproject.toml) ... \u001b[?25l\u001b[?25hdone\n",
      "  Created wheel for scikit-sparse: filename=scikit_sparse-0.4.12-cp310-cp310-linux_x86_64.whl size=710150 sha256=e6eb8e83e965b6f52ff82a0507c2fea60c59ffe6d02f7cc057bfe57673c8c26b\n",
      "  Stored in directory: /root/.cache/pip/wheels/25/fa/b3/dce4562e00f8f5abf47c0418efc3422f29aabcdd38fd4cc1eb\n",
      "Successfully built scikit-sparse\n",
      "Installing collected packages: scikit-sparse\n",
      "Successfully installed scikit-sparse-0.4.12\n"
     ]
    }
   ],
   "source": [
    "# run this cell once\n",
    "import sys\n",
    "import os\n",
    "\n",
    "if 'google.colab' in sys.modules:\n",
    "  !git clone https://github.com/bradleywjenks/CIVE_70019_70057.git\n",
    "  !pip install wntr\n",
    "  !pip install cvxpy\n",
    "  !apt-get install libsuitesparse-dev && pip install scikit-sparse"
   ]
  },
  {
   "cell_type": "code",
   "execution_count": 2,
   "id": "Bg3A6sO13PRH",
   "metadata": {
    "id": "Bg3A6sO13PRH"
   },
   "outputs": [],
   "source": [
    "# load packages\n",
    "import numpy as np\n",
    "from numpy import linalg as la\n",
    "import networkx as nx\n",
    "import pandas as pd\n",
    "import wntr\n",
    "import matplotlib.pyplot as plt\n",
    "import matplotlib.cm as cm\n",
    "import copy\n",
    "from datetime import datetime, timedelta\n",
    "import cvxpy as cp\n",
    "import warnings\n",
    "warnings.filterwarnings('ignore')\n",
    "\n",
    "# improve matplotlib image quality\n",
    "plt.rcParams['figure.dpi'] = 300\n",
    "plt.rcParams['savefig.dpi'] = 300\n",
    "import matplotlib_inline\n",
    "matplotlib_inline.backend_inline.set_matplotlib_formats('svg')"
   ]
  },
  {
   "cell_type": "markdown",
   "id": "Im1H-3E-2rNx",
   "metadata": {
    "id": "Im1H-3E-2rNx"
   },
   "source": [
    "### Load network properties and operational data"
   ]
  },
  {
   "cell_type": "markdown",
   "id": "18ff4e16",
   "metadata": {
    "id": "18ff4e16"
   },
   "source": [
    "Load functions created in previous assignments."
   ]
  },
  {
   "cell_type": "code",
   "execution_count": 3,
   "id": "3b8e8f67",
   "metadata": {
    "id": "3b8e8f67"
   },
   "outputs": [],
   "source": [
    "# load functions from src folder\n",
    "if 'google.colab' in sys.modules:\n",
    "    sys.path.append('/content/CIVE_70019_70057/src/')\n",
    "    from general_functions import *\n",
    "    from hydraulic_functions import *\n",
    "else:\n",
    "    sys.path.append('/home/bradw/workspace/CIVE_70019_70057/src/')\n",
    "    from general_functions import *\n",
    "    from hydraulic_functions import *"
   ]
  },
  {
   "cell_type": "markdown",
   "id": "8S6RiXY_28PC",
   "metadata": {
    "id": "8S6RiXY_28PC"
   },
   "source": [
    "Load network .inp file and operational data from the module repository's data directory."
   ]
  },
  {
   "cell_type": "code",
   "execution_count": 4,
   "id": "x9vbD66O22q_",
   "metadata": {
    "id": "x9vbD66O22q_"
   },
   "outputs": [],
   "source": [
    "if 'google.colab' in sys.modules:\n",
    "    # if run in Google Colab\n",
    "    data_dir = '/content/CIVE_70019_70057/data/parameter_estimation/'\n",
    "    net_dir = '/content/CIVE_70019_70057/data/networks/'\n",
    "else:\n",
    "    # replace with local directory\n",
    "    data_dir = '/home/bradw/workspace/CIVE_70019_70057/data/parameter_estimation/'\n",
    "    net_dir = '/home/bradw/workspace/CIVE_70019_70057/data/networks/'\n",
    "\n",
    "net_name = 'exning.inp'\n",
    "data_name = 'exning_coursework_dataset.npy'\n",
    "\n",
    "# load operational data\n",
    "data = np.load(os.path.join(data_dir, data_name), allow_pickle=True).item()\n",
    "h_data = data['h_data']\n",
    "sensor_idx = data['sensor_idx'] - 1 # matlab to python index offset\n",
    "d_data = data['d']\n",
    "h0_data = data['h0'].reshape(-1, 1).T\n",
    "\n",
    "# load network properties\n",
    "wdn = load_network_data(os.path.join(net_dir, net_name))\n",
    "A12 = wdn.A12\n",
    "A10 = wdn.A10\n",
    "net_info = wdn.net_info\n",
    "link_df = wdn.link_df\n",
    "node_df = wdn.node_df\n",
    "demand_df = wdn.demand_df"
   ]
  },
  {
   "cell_type": "markdown",
   "id": "IVw1luezmfxv",
   "metadata": {
    "id": "IVw1luezmfxv"
   },
   "source": [
    "Plot sensor nodes in network. We provide a plotting function below."
   ]
  },
  {
   "cell_type": "code",
   "execution_count": null,
   "id": "ec181359",
   "metadata": {
    "id": "ec181359"
   },
   "outputs": [],
   "source": [
    "#### DO NOT CHANGE THIS ####\n",
    "# network plotting function\n",
    "def plot_network(wdn, sensor_idx, vals=None, highlight_valves=None):\n",
    "\n",
    "    # unload data\n",
    "    link_df = wdn.link_df\n",
    "    node_df = wdn.node_df\n",
    "    net_info = wdn.net_info\n",
    "    h0_df = wdn.h0_df\n",
    "\n",
    "    # draw network\n",
    "    uG = nx.from_pandas_edgelist(link_df, source='node_out', target='node_in')\n",
    "    pos = {row['node_ID']: (row['xcoord'], row['ycoord']) for _, row in node_df.iterrows()}\n",
    "    nx.draw(uG, pos, node_size=20, node_shape='o')\n",
    "\n",
    "    # draw reservoir\n",
    "    nx.draw_networkx_nodes(uG, pos, nodelist=net_info['reservoir_names'], node_size=100, node_shape='s', node_color='black')\n",
    "\n",
    "    # draw sensor nodes\n",
    "    sensor_names = [net_info['junction_names'][i] for i in sensor_idx]\n",
    "    nx.draw_networkx_nodes(uG, pos, sensor_names, node_size=100, node_shape='o', node_color='red', edgecolors='white')\n",
    "\n",
    "    # reservoir labels\n",
    "    reservoir_labels = {node: 'Reservoir' for node in net_info['reservoir_names']}\n",
    "    labels_res = nx.draw_networkx_labels(uG, pos, reservoir_labels, font_size=12, verticalalignment='top')\n",
    "    for _, label in labels_res.items():\n",
    "        label.set_y(label.get_position()[1] - 1500)\n",
    "\n",
    "    # sensor labels\n",
    "    sensor_labels = {node: str(idx+1) for (idx, node) in enumerate(sensor_names)}\n",
    "    labels_sen = nx.draw_networkx_labels(uG, pos, sensor_labels, font_size=12, verticalalignment='bottom')\n",
    "    for _, label in labels_sen.items():\n",
    "        label.set_y(label.get_position()[1] + 1000)\n",
    "\n",
    "    # plot sensor vals\n",
    "    if vals is not None:\n",
    "\n",
    "        cmap = cm.get_cmap('RdYlGn_r')\n",
    "\n",
    "        # plot residuals\n",
    "        nx.draw_networkx_nodes(uG, pos, nodelist=sensor_names, node_size=100, node_shape='o', node_color=vals, cmap=cmap, edgecolors='white')\n",
    "\n",
    "        # create color bar\n",
    "        sm = plt.cm.ScalarMappable(cmap=cmap)\n",
    "        sm.set_array(vals)\n",
    "        colorbar = plt.colorbar(sm)\n",
    "        colorbar.set_label('Mean pressure residual [m]', fontsize=12)\n",
    "\n",
    "    # highlight link\n",
    "    if highlight_valves is not None:\n",
    "        nx.draw_networkx_nodes(uG, pos, highlight_valves, node_size=200, node_shape='d', node_color='limegreen', edgecolors='white')"
   ]
  },
  {
   "cell_type": "code",
   "execution_count": null,
   "id": "a5a5625f",
   "metadata": {
    "id": "a5a5625f"
   },
   "outputs": [],
   "source": [
    "plot_network(...)"
   ]
  },
  {
   "cell_type": "markdown",
   "id": "8e4e135d",
   "metadata": {
    "id": "8e4e135d"
   },
   "source": [
    "### Preliminary model evaluation"
   ]
  },
  {
   "cell_type": "markdown",
   "id": "cf326963",
   "metadata": {
    "id": "cf326963"
   },
   "source": [
    "Simulate initial (uncalibrated) network hydraulics over 4 days. We first define a function to solve network hydraulics using the `wntr` package, which we used previously in the hyraulic modelling notebook. The following tasks are performed in this function:\n",
    "- Load network properties\n",
    "- Modify simulation time to match operational data\n",
    "- Assign h0 data at model reservoir\n",
    "- Scale and apply new demand pattern from inflow data\n",
    "- Option to modify pipe roughness (or HW) coefficients\n",
    "\n",
    "<font color=\"blue\">NB: this is done for you below. Provided the correct inputs, you do not need to replicate this function."
   ]
  },
  {
   "cell_type": "code",
   "execution_count": null,
   "id": "8ab6a264",
   "metadata": {
    "id": "8ab6a264"
   },
   "outputs": [],
   "source": [
    "#### DO NOT CHANGE THIS ####\n",
    "# hydraulic solver function\n",
    "def hydraulic_solver(inp_file, d_data, h0_data, C=None, demand=False):\n",
    "\n",
    "    # load network from wntr\n",
    "    inp_file = os.path.join(net_dir, net_name)\n",
    "    wn = wntr.network.WaterNetworkModel(inp_file)\n",
    "\n",
    "    # get network properties\n",
    "    reservoir_names = wn.reservoir_name_list\n",
    "    junction_names = wn.junction_name_list\n",
    "    link_names = wn.link_name_list\n",
    "\n",
    "    # modify simulation time and hydraulic time step\n",
    "    nt = h0_data.shape[1]\n",
    "    wn.options.time.duration = (nt - 1) * 3600\n",
    "    wn.options.time.hydraulic_timestep = 3600\n",
    "    wn.options.time.pattern_timestep = 3600\n",
    "    wn.options.time.report_timestep = 3600\n",
    "\n",
    "    # assign reservoir data\n",
    "    for (i, name) in enumerate(reservoir_names):\n",
    "        wn.add_pattern(f'h0_{i}', h0_data[i])\n",
    "        reservoir = wn.get_node(name)\n",
    "        reservoir.head_timeseries.base_value = 1\n",
    "        reservoir.head_timeseries.pattern_name = wn.get_pattern(f'h0_{i}')\n",
    "\n",
    "    # replace demand data\n",
    "    for idx, name in enumerate(junction_names):\n",
    "\n",
    "        if any(val != 0 for val in d_data[idx, :]):\n",
    "            node = wn.get_node(name)\n",
    "            d_pat = d_data[idx, :]\n",
    "            wn.add_pattern('d_'+name, d_pat)\n",
    "\n",
    "            for (i, num) in enumerate(node.demand_timeseries_list):\n",
    "                if i == 0:\n",
    "                    node.demand_timeseries_list[i].base_value = 1\n",
    "                    node.demand_timeseries_list[i].pattern_name = 'd_'+name\n",
    "                else:\n",
    "                    node.demand_timeseries_list[i].base_value = None\n",
    "                    node.demand_timeseries_list[i].pattern_name = None\n",
    "\n",
    "    # assign roughness (or HW) coefficients\n",
    "    if C is not None:\n",
    "        for name, link in wn.links():\n",
    "\n",
    "            # check if the link is a pipe\n",
    "            if isinstance(link, wntr.network.Pipe):\n",
    "                link.roughness = C[link_names.index(name)]\n",
    "\n",
    "            # check if link is a valve\n",
    "            elif isinstance(link, wntr.network.Valve):\n",
    "                link.minor_loss = C[link_names.index(name)]\n",
    "                link.initial_setting = C[link_names.index(name)]\n",
    "\n",
    "    # run simulation and get results\n",
    "    sim = wntr.sim.EpanetSimulator(wn)\n",
    "    results = sim.run_sim()\n",
    "\n",
    "    q_sim = results.link['flowrate'].T\n",
    "    h_sim = results.node['head'].T\n",
    "    h_sim = h_sim[~h_sim.index.isin(reservoir_names)] # delete reservoir nodes\n",
    "    d = results.node['demand'].T\n",
    "    d = d[~d.index.isin(reservoir_names)] # delete reservoir nodes\n",
    "\n",
    "\n",
    "    if demand == True:\n",
    "        return d.to_numpy()\n",
    "    else:\n",
    "        return q_sim.to_numpy(), h_sim.to_numpy()"
   ]
  },
  {
   "cell_type": "markdown",
   "id": "3ccd2677",
   "metadata": {
    "id": "3ccd2677"
   },
   "source": [
    "Run simulation with initial $C_0$ values."
   ]
  },
  {
   "cell_type": "code",
   "execution_count": null,
   "id": "396feded",
   "metadata": {
    "id": "396feded"
   },
   "outputs": [],
   "source": [
    "C_0 = link_df['C'].to_numpy()\n",
    "_, h_0 = hydraulic_solver(...)"
   ]
  },
  {
   "cell_type": "markdown",
   "id": "1529c117",
   "metadata": {
    "id": "1529c117"
   },
   "source": [
    "Compare simulated heads at sensor nodes (node indices in `sensor_idx`) with the simulated heads over the 4-day period. Visualise the results with, e.g. a boxplot of pressure residuals on the test dataset."
   ]
  },
  {
   "cell_type": "code",
   "execution_count": null,
   "id": "f8324840",
   "metadata": {
    "id": "f8324840"
   },
   "outputs": [],
   "source": [
    "# compute pressure residuals\n",
    "residuals_0 = ..."
   ]
  },
  {
   "cell_type": "markdown",
   "id": "b8380051",
   "metadata": {
    "id": "b8380051"
   },
   "source": [
    "**<u>Question 1:</u>** Is the current hydraulic model of EXNING accurate according to hydraulic model calibration guidelines? Comment on the results of the preliminary model evaluation and, in particular, on\n",
    "* the **sign** (i.e. are heads over or underestimated in the hydraulic simulation?) of pressure/head residuals,\n",
    "* the **temporal** distribution (i.e. are the residuals time/flow dependent?) of pressure/head residuals,\n",
    "* and the **spatial** distribution (i.e. are all sensors affected?) of the pressure/head residuals.\n",
    "\n",
    "Given the information you were provided about the EXNING system and the results of the preliminary model evaluation, identify the most likely sources of model errors."
   ]
  },
  {
   "cell_type": "markdown",
   "id": "28ee1f6b",
   "metadata": {
    "id": "28ee1f6b"
   },
   "source": [
    "<font color=\"red\">Enter response here..."
   ]
  },
  {
   "cell_type": "markdown",
   "id": "b9178248",
   "metadata": {
    "id": "b9178248"
   },
   "source": [
    "### Part 1: parameter estimation without pipe grouping + valves fixed"
   ]
  },
  {
   "cell_type": "markdown",
   "id": "b98980ba",
   "metadata": {
    "id": "b98980ba"
   },
   "source": [
    "Based on the outcome of the initial comparison between measured and simulated heads at sensor nodes, you are tasked with the calibration of the hydraulic model of EXNING. Given the information provided by Anglian Water about the EXNING system, the first step is to adjust the pipe roughness (H-W) coefficients. In order to limit the number of parameters in question, and regardless of your answer to question 1, you will first assume (in Parts 1 and 2 of the coursework) that the status of valves is known and minor/local loss coefficients are fixed to C=0.2 (fully open).\n",
    "\n",
    "First, you will investigate the effect of pipe grouping on the calibration of H-W coefficients. In Part 1, you will solve the model calibration problem without pipe grouping. Complete the code below to calibrate the network model using the head measurements loaded previously."
   ]
  },
  {
   "cell_type": "markdown",
   "id": "773cf9ad",
   "metadata": {
    "id": "773cf9ad"
   },
   "source": [
    "#### Separate the data into train and test datasets\n",
    "We suggest you use the first day worth of data (loading conditions + $h_0$ measurements) as a train dataset, and the remaining three (3) days as a test dataset."
   ]
  },
  {
   "cell_type": "code",
   "execution_count": null,
   "id": "2233eca0",
   "metadata": {
    "id": "2233eca0"
   },
   "outputs": [],
   "source": [
    "# tain data\n",
    "nt_train = 24\n",
    "data_train = {\n",
    "    'd': ...,\n",
    "    'h0': ...,\n",
    "    'h_data': ...\n",
    "}\n",
    "\n",
    "# test data\n",
    "data_test = {\n",
    "    'd': ...,\n",
    "    'h0': ...,\n",
    "    'h_data': ...\n",
    "}"
   ]
  },
  {
   "cell_type": "markdown",
   "id": "c9c6603d",
   "metadata": {
    "id": "c9c6603d"
   },
   "source": [
    "**<u>Question 2:</u>** Briefly comment on the definition of the train dataset. What impact may it have on the predictive ability of your model? (i.e. what range of conditions will you confidently be able to use your model for?)"
   ]
  },
  {
   "cell_type": "markdown",
   "id": "2454f6a4",
   "metadata": {
    "id": "2454f6a4"
   },
   "source": [
    "<font color=\"red\">Enter response here..."
   ]
  },
  {
   "cell_type": "markdown",
   "id": "622ccaab",
   "metadata": {
    "id": "622ccaab"
   },
   "source": [
    "#### Definition of the loss function\n",
    "The calibration of H-W coefficients is a model fitting/parameter estimation problem. In particular, for the hydraulic model calibration problem, the loss function is defined as the mean squared error (MSE) between simulated and measured heads at sensor locations:"
   ]
  },
  {
   "cell_type": "code",
   "execution_count": null,
   "id": "175ca0d2",
   "metadata": {
    "id": "175ca0d2"
   },
   "outputs": [],
   "source": [
    "def loss_fun(h, h_data):\n",
    "    return ( 1/len(h_data.flatten()) ) * np.sum( ( ... - ... )**2 )"
   ]
  },
  {
   "cell_type": "markdown",
   "id": "fb78d234",
   "metadata": {
    "id": "fb78d234"
   },
   "source": [
    "Compute MSE for `C_0` values and using the training data."
   ]
  },
  {
   "cell_type": "code",
   "execution_count": null,
   "id": "65a36bdf",
   "metadata": {
    "id": "65a36bdf"
   },
   "outputs": [],
   "source": [
    "h_0 = ...\n",
    "mse_0 = loss_fun(...)\n",
    "mse_0"
   ]
  },
  {
   "cell_type": "markdown",
   "id": "a38d7711",
   "metadata": {
    "id": "a38d7711"
   },
   "source": [
    "**<u>Question 3:</u>**  Justify the choice/definition of `loss_fun`."
   ]
  },
  {
   "cell_type": "markdown",
   "id": "41c775a2",
   "metadata": {
    "id": "41c775a2"
   },
   "source": [
    "<font color=\"red\">Enter response here..."
   ]
  },
  {
   "cell_type": "markdown",
   "id": "ae82ecc6",
   "metadata": {
    "id": "ae82ecc6"
   },
   "source": [
    "#### Solve the parameter estimation problem using the train dataset\n",
    "\n",
    "The following function is needed for the sequential convex programming (SCP) method used in this coursework. <font color=\"blue\">As with the `hydraulic_solver` function, we provide the following code in `linear_approx_calibration` for you to use throughout this notebook."
   ]
  },
  {
   "cell_type": "code",
   "execution_count": null,
   "id": "67ac4ce4",
   "metadata": {
    "id": "67ac4ce4"
   },
   "outputs": [],
   "source": [
    "#### DO NOT CHANGE THIS ####\n",
    "# compute matrices for the head loss linear approximation of the HW headloss\n",
    "def linear_approx_calibration(wdn, q, C):\n",
    "    # unload data\n",
    "    A12 = wdn.A12\n",
    "    A10 = wdn.A10\n",
    "    net_info = wdn.net_info\n",
    "    link_df = wdn.link_df\n",
    "\n",
    "    K = np.zeros((net_info['np'], 1))\n",
    "    n_exp = link_df['n_exp'].astype(float).to_numpy().reshape(-1, 1)\n",
    "    b1_k = copy.copy(K)\n",
    "    b2_k = copy.copy(K)\n",
    "\n",
    "    for idx, row in link_df.iterrows():\n",
    "        if row['link_type'] == 'pipe':\n",
    "            K[idx] = 10.67 * row['length'] * (C[idx] ** -row['n_exp']) * (row['diameter'] ** -4.8704)\n",
    "            b1_k[idx] = copy.copy(K[idx])\n",
    "            b2_k[idx] = (-n_exp[idx] * K[idx]) / C[idx]\n",
    "\n",
    "        elif row['link_type'] == 'valve':\n",
    "            K[idx] = (8 / (np.pi ** 2 * 9.81)) * (row['diameter'] ** -4) * C[idx]\n",
    "            b1_k[idx] = -n_exp[idx] * copy.copy(K[idx])\n",
    "            b2_k[idx] = copy.copy(K[idx]) / C[idx]\n",
    "\n",
    "    a11_k = np.tile(K, q.shape[1]) * np.abs(q) ** (n_exp - 1)\n",
    "    b1_k = np.tile(b1_k, q.shape[1]) * np.abs(q) ** (n_exp - 1)\n",
    "    b2_k = np.tile(b2_k, q.shape[1]) * np.abs(q) ** (n_exp - 1) * q\n",
    "\n",
    "    return a11_k, b1_k, b2_k"
   ]
  },
  {
   "cell_type": "markdown",
   "id": "b7cbaf70",
   "metadata": {
    "id": "b7cbaf70"
   },
   "source": [
    "Solve the model calibration problem without pipe grouping using the `cvxpy` modelling interface. (Use the code provided previously.)"
   ]
  },
  {
   "cell_type": "code",
   "execution_count": null,
   "id": "ef1e7d3d",
   "metadata": {
    "id": "ef1e7d3d"
   },
   "outputs": [],
   "source": [
    "# unload network training data\n",
    "n_exp = link_df['n_exp']\n",
    "d = data_train['d']\n",
    "h_data = data_train['h_data']\n",
    "h0 = data_train['h0'].reshape(-1, 1).T\n",
    "\n",
    "# define SCP problem parameters\n",
    "Ki = np.inf\n",
    "iter_max = 50\n",
    "delta_k = 20\n",
    "C_up_pipe = 200\n",
    "C_lo_pipe = 1e-4\n",
    "\n",
    "# initialise values\n",
    "theta_k = ...\n",
    "q_k, h_k = hydraulic_solver(...)\n",
    "a11_k, b1_k, b2_k = linear_approx_calibration(...)\n",
    "objval_k = loss_fun(...)\n",
    "\n",
    "### main scp code ###\n",
    "for k in range(iter_max):\n",
    "\n",
    "    # insert code here...."
   ]
  },
  {
   "cell_type": "markdown",
   "id": "9ba17cc5",
   "metadata": {
    "id": "9ba17cc5"
   },
   "source": [
    "**<u>Question 4:</u>** Describe the nature/role of the different outputs of the SCP algorithm printed above (objvalk, Ki, Deltak) and explain their trends."
   ]
  },
  {
   "cell_type": "markdown",
   "id": "b062648a",
   "metadata": {
    "id": "b062648a"
   },
   "source": [
    "<font color=\"red\">Enter response here..."
   ]
  },
  {
   "cell_type": "markdown",
   "id": "113a7a36",
   "metadata": {
    "id": "113a7a36"
   },
   "source": [
    "Store the solution (i.e. new coefficients `theta_k`) as $C_1$."
   ]
  },
  {
   "cell_type": "code",
   "execution_count": null,
   "id": "2d41fe87",
   "metadata": {
    "id": "2d41fe87"
   },
   "outputs": [],
   "source": [
    "C_1 = ..."
   ]
  },
  {
   "cell_type": "markdown",
   "id": "210422ca",
   "metadata": {
    "id": "210422ca"
   },
   "source": [
    "#### Evaluate test model error\n",
    "Compute the MSE and plot the pressure residuals corresponding to the test dataset."
   ]
  },
  {
   "cell_type": "code",
   "execution_count": null,
   "id": "5501ea68",
   "metadata": {
    "id": "5501ea68"
   },
   "outputs": [],
   "source": [
    "# compute hydraulics\n",
    "_, h_test = hydraulic_solver(...)\n",
    "\n",
    "# compute test mse\n",
    "mse_test_1 = loss_fun(...)\n",
    "mse_test_1"
   ]
  },
  {
   "cell_type": "code",
   "execution_count": null,
   "id": "22ca47cc",
   "metadata": {
    "id": "22ca47cc"
   },
   "outputs": [],
   "source": [
    "# compute pressure residuals\n",
    "residuals_1 = ..."
   ]
  },
  {
   "cell_type": "markdown",
   "id": "ae67620d",
   "metadata": {
    "id": "ae67620d"
   },
   "source": [
    "**<u>Question 5:</u>** Comment on the improvement in model accuracy (before vs. after calibration)."
   ]
  },
  {
   "cell_type": "markdown",
   "id": "b08167ab",
   "metadata": {
    "id": "b08167ab"
   },
   "source": [
    "<font color=\"red\">Enter response here..."
   ]
  },
  {
   "cell_type": "markdown",
   "id": "e723d148",
   "metadata": {
    "id": "e723d148"
   },
   "source": [
    "#### Discuss the values of the calibrated H-W coefficients $C_1$\n",
    "Visualise the values of newly calibrated coefficients $C_1$ compared to original model coefficients $C_0$."
   ]
  },
  {
   "cell_type": "code",
   "execution_count": null,
   "id": "736b2629",
   "metadata": {
    "id": "736b2629"
   },
   "outputs": [],
   "source": [
    "# generate C_1 v. C_0 value scatter plot (pipes only)"
   ]
  },
  {
   "cell_type": "markdown",
   "id": "b57cf8b9",
   "metadata": {
    "id": "b57cf8b9"
   },
   "source": [
    "**<u>Question 6:</u>** Comment on the values of parameter estimates in $C_1$ and explain the results of the calibration without pipe grouping. Can the new model be considered calibrated?"
   ]
  },
  {
   "cell_type": "markdown",
   "id": "505a4733",
   "metadata": {
    "id": "505a4733"
   },
   "source": [
    "<font color=\"red\">Enter response here..."
   ]
  },
  {
   "cell_type": "markdown",
   "id": "1aa666e0",
   "metadata": {
    "id": "1aa666e0"
   },
   "source": [
    "### Part 2: parameter estimation with pipe grouping + valves fixed\n",
    "In order to reduce the underdeterminedness of the model calibration problem (and improve the quality of estimated H-W coefficients), pipes can be grouped based on their material and age. In particular, all pipes of a group are assumed to share the same H-W coefficient. This also allows tighter bounds on the grouped coefficient estimates (stored in $\\Theta_{\\text{lb}}$ and $\\Theta_{\\text{ub}}$, for lower and upper bounds, respectively) in the formulation of the parameter estimation problem. Here, you will still assume the status of valves is known with minor/local loss coefficients fixed to C=0.2. Use the code provided in Week 5 and modify as necessary below to calibrate the hydraulic model with pipe grouping, using the same train data as before. (Note that Part 2 might take a little longer to run than Part 1.)"
   ]
  },
  {
   "cell_type": "markdown",
   "id": "938c7210",
   "metadata": {
    "id": "938c7210"
   },
   "source": [
    "Load pipe grouping information."
   ]
  },
  {
   "cell_type": "code",
   "execution_count": null,
   "id": "8fe72e3a",
   "metadata": {
    "id": "8fe72e3a"
   },
   "outputs": [],
   "source": [
    "link_groups = data['G'][0] - 1 # matlab to python index offset\n",
    "ng = link_groups.shape[0]\n",
    "thetaG_lo = data['thetaG_min'][:, 0]\n",
    "thetaG_up = data['thetaG_max'][:, 0]"
   ]
  },
  {
   "cell_type": "markdown",
   "id": "e708216e",
   "metadata": {
    "id": "e708216e"
   },
   "source": [
    "#### Solve the parameter estimation problem using the train dataset\n",
    "Solve the model calibration problem with pipe grouping. (Use the code provided previously and modify as necessary.)"
   ]
  },
  {
   "cell_type": "code",
   "execution_count": null,
   "id": "f15a09c4",
   "metadata": {
    "id": "f15a09c4"
   },
   "outputs": [],
   "source": [
    "# unload network training data\n",
    "n_exp = link_df['n_exp']\n",
    "d = data_train['d']\n",
    "h_data = data_train['h_data']\n",
    "h0 = data_train['h0'].reshape(-1, 1).T\n",
    "\n",
    "# define problem parameters\n",
    "Ki = np.inf\n",
    "iter_max = 50\n",
    "delta_k = 20\n",
    "C_up_pipe = 200\n",
    "C_lo_pipe = 0\n",
    "\n",
    "# initialise values\n",
    "theta_k = ...\n",
    "q_k, h_k = hydraulic_solver(...)\n",
    "a11_k, b1_k, b2_k = linear_approx_calibration(...)\n",
    "objval_k = loss_fun(...)\n",
    "\n",
    "### main scp code ###\n",
    "for k in range(iter_max):\n",
    "\n",
    "    # insert code here..."
   ]
  },
  {
   "cell_type": "markdown",
   "id": "9a2af113",
   "metadata": {
    "id": "9a2af113"
   },
   "source": [
    "Store the solution (i.e. new coefficients `theta_k`) as $C_2$."
   ]
  },
  {
   "cell_type": "code",
   "execution_count": null,
   "id": "cc1e1ab7",
   "metadata": {
    "id": "cc1e1ab7"
   },
   "outputs": [],
   "source": [
    "C_2 = ...\n",
    "\n",
    "# compute train mse\n",
    "mse_train_2 = loss_fun(...)\n",
    "mse_train_2"
   ]
  },
  {
   "cell_type": "markdown",
   "id": "b6be8b09",
   "metadata": {
    "id": "b6be8b09"
   },
   "source": [
    "#### Evaluate test model error\n",
    "Compute the MSE and plot the pressure residuals corresponding to the test dataset."
   ]
  },
  {
   "cell_type": "code",
   "execution_count": null,
   "id": "8ce78d4f",
   "metadata": {
    "id": "8ce78d4f"
   },
   "outputs": [],
   "source": [
    "# compute hydraulics\n",
    "_, h_test = hydraulic_solver(...)\n",
    "\n",
    "# compute test mse\n",
    "mse_test_2 = loss_fun(...)\n",
    "mse_test_2"
   ]
  },
  {
   "cell_type": "code",
   "execution_count": null,
   "id": "7d4add89",
   "metadata": {
    "id": "7d4add89"
   },
   "outputs": [],
   "source": [
    "# compute pressure residuals\n",
    "residuals_2 = ..."
   ]
  },
  {
   "cell_type": "markdown",
   "id": "70a0a0c3",
   "metadata": {
    "id": "70a0a0c3"
   },
   "source": [
    "**<u>Question 7:</u>** Comment on the improvement in model accuracy after calibration with pipe grouping."
   ]
  },
  {
   "cell_type": "markdown",
   "id": "379baf34",
   "metadata": {
    "id": "379baf34"
   },
   "source": [
    "<font color=\"red\">Enter response here..."
   ]
  },
  {
   "cell_type": "markdown",
   "id": "d8db47d8",
   "metadata": {
    "id": "d8db47d8"
   },
   "source": [
    "#### Discuss the values of the calibrated H-W coefficients $C_2$\n",
    "Visualise the values of newly calibrated coefficients $C_2$ compared to model coefficients $C_1$ and $C_0$."
   ]
  },
  {
   "cell_type": "code",
   "execution_count": null,
   "id": "5bdc5a2a",
   "metadata": {
    "id": "5bdc5a2a"
   },
   "outputs": [],
   "source": [
    "# generate C_2 value scatter plot (pipes only)"
   ]
  },
  {
   "cell_type": "markdown",
   "id": "0666d7c2",
   "metadata": {
    "id": "0666d7c2"
   },
   "source": [
    "**<u>Question 8:</u>** Comment on the values of the H-W coefficient estimates $C_2$ and justify the results of the calibration with pipe grouping."
   ]
  },
  {
   "cell_type": "markdown",
   "id": "fab55e66",
   "metadata": {
    "id": "fab55e66"
   },
   "source": [
    "<font color=\"red\">Enter response here..."
   ]
  },
  {
   "cell_type": "markdown",
   "id": "15e8f429",
   "metadata": {
    "id": "15e8f429"
   },
   "source": [
    "**<u>Question 9:</u>** Can the newly calibrated model (with H-W coefficients in $C_2$) be considered calibrated? Considering the results of Part 2, as well as your answer to question 1, provide an interpretation of the remaining pressure/head residuals."
   ]
  },
  {
   "cell_type": "code",
   "execution_count": null,
   "id": "051232f1",
   "metadata": {
    "id": "051232f1"
   },
   "outputs": [],
   "source": [
    "# spatial residuals plot (hint: you can use `plot_network` function`)"
   ]
  },
  {
   "cell_type": "markdown",
   "id": "6769b2e6",
   "metadata": {
    "id": "6769b2e6"
   },
   "source": [
    "<font color=\"red\">Enter response here..."
   ]
  },
  {
   "cell_type": "markdown",
   "id": "ea707f91",
   "metadata": {
    "id": "ea707f91"
   },
   "source": [
    "### Part 3: parameter estimation with pipe grouping + valve coefficients free"
   ]
  },
  {
   "cell_type": "markdown",
   "id": "fd7ac20c",
   "metadata": {
    "id": "fd7ac20c"
   },
   "source": [
    "Following initial reports concerning discrepancies in the EXNING model, AW were able to confirm that:\n",
    "* flow and head sensors had been calibrated before collection of load/field data corresponding to the train and test datasets,\n",
    "* allocation of demands in the train and test dataset is representative of normal network conditions and based on recent demand monitoring campaigns (incl. of large industrial users), and\n",
    "* boundary valves (isolating EXNING from adjacent DMAs) are closed.\n",
    "\n",
    "As a result, the remaining deviations between measured and simulated pressures must result from unknown/unreported changes in system connectivity. Errors associated with unknown valve status (e.g. closed valves) can be identified by solving a similar parameter estimation problem where valve coefficients, in addition to H-W coefficients, are free to vary.\n",
    "\n",
    "In Part 3, you are encouraged to propose and investigate an approach to calibrate the hydraulic model with unknown valve coefficients. You may follow the suggested steps below, or come up with your own. Marks will be allocated based on the justification of the adopted approach (show your thinking!) and discussion of the obtained results in question 10, whether they lead to a firm conclusion about the existence/location of unknowingly closed valves or not.\n",
    "\n",
    "Suggested approach:\n",
    "1. Try modifying the CVXPY implementation in Part 2 to allow valve coefficients to vary. Solve the resulting parameter estimation problem and interpret the optimal value of $C_3$.\n",
    "2. Next, try further modifying your CVXPY implementation to account for the expected sparsity of large valve coefficients (hint: you might want to consider regularising your problem formulation). Solve the resulting problem and comment on the optimal value of $C_3$.\n",
    "3. Finally, compare the results of Part 3 with your answer to question 1 and preliminary model evaluation. Explain whether they contradict or corroborate your previous conclusions about the most likely sources of error in the EXNING model by answering question 10 below."
   ]
  },
  {
   "cell_type": "code",
   "execution_count": null,
   "id": "9d74c73e",
   "metadata": {
    "id": "9d74c73e"
   },
   "outputs": [],
   "source": [
    "# insert Part 3 code here..."
   ]
  },
  {
   "cell_type": "markdown",
   "id": "db6fef77",
   "metadata": {
    "id": "db6fef77"
   },
   "source": [
    "**<u>Question 10:</u>** Summarise your findings and provide recommendations to AW to validate your proposed hydraulic model update. Provide plots to support your recommendations."
   ]
  },
  {
   "cell_type": "markdown",
   "id": "b96d51ab",
   "metadata": {
    "id": "b96d51ab"
   },
   "source": [
    "<font color=\"red\">Enter response here..."
   ]
  }
 ],
 "metadata": {
  "colab": {
   "include_colab_link": true,
   "provenance": []
  },
  "kernelspec": {
   "display_name": "CIVE_module_env",
   "language": "python",
   "name": "python3"
  },
  "language_info": {
   "codemirror_mode": {
    "name": "ipython",
    "version": 3
   },
   "file_extension": ".py",
   "mimetype": "text/x-python",
   "name": "python",
   "nbconvert_exporter": "python",
   "pygments_lexer": "ipython3",
   "version": "3.10.11"
  }
 },
 "nbformat": 4,
 "nbformat_minor": 5
}
