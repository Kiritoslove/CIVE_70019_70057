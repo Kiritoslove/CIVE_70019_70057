{
  "cells": [
    {
      "cell_type": "markdown",
      "metadata": {
        "colab_type": "text",
        "id": "view-in-github"
      },
      "source": [
        "<a href=\"https://colab.research.google.com/github/bradleywjenks/CIVE_70019_70057/blob/main/notebooks/model_calibration_coursework.ipynb\" target=\"_parent\"><img src=\"https://colab.research.google.com/assets/colab-badge.svg\" alt=\"Open In Colab\"/></a>"
      ]
    },
    {
      "cell_type": "markdown",
      "id": "c3ea0ffc",
      "metadata": {
        "id": "c3ea0ffc"
      },
      "source": [
        "# Parameter estimation for hydraulic model calibration and fault detection\n",
        "\n",
        "\n",
        "### CIVE 70019/70057\n",
        "Department of Civil and Environmental Engineering, Imperial College London"
      ]
    },
    {
      "cell_type": "markdown",
      "id": "5eebea76",
      "metadata": {
        "id": "5eebea76"
      },
      "source": [
        "### Preamble\n",
        "This notebook implements sequential convex programming (SCP) to estimate roughness and local loss coefficients for hydraulic model calibration. The following steps should be performed to calibrate the hydraulic model:\n",
        "1. Load network properties and operational data\n",
        "2. Analyse preliminary model performance\n",
        "3. Part 1: parameter estimation of pipe roughness (Hazen-Williams) coefficients **without** pipe grouping\n",
        "4. Part 2: parameter estimation of pipe roughness (Hazen-Williams) coefficients **with** pipe grouping\n",
        "5. Part 3: parameter estimation of pipe roughness (Hazen-Williams) coefficients **with** pipe grouping **and** valve loss coefficients\n",
        "\n",
        "Each step should be followed by a brief discussion on your assumptions and the caibration results."
      ]
    },
    {
      "cell_type": "markdown",
      "id": "e7aeb130",
      "metadata": {
        "id": "e7aeb130"
      },
      "source": [
        "First, we must clone the GitHub repository and install dependencies (only run this once)."
      ]
    },
    {
      "cell_type": "code",
      "execution_count": null,
      "id": "XUkd0ndZ-Fy_",
      "metadata": {
        "colab": {
          "base_uri": "https://localhost:8080/"
        },
        "id": "XUkd0ndZ-Fy_",
        "outputId": "441c43d5-7004-4043-b306-86e53ba42543"
      },
      "outputs": [],
      "source": [
        "# run this cell once\n",
        "import sys\n",
        "import os\n",
        "\n",
        "if 'google.colab' in sys.modules:\n",
        "  !git clone https://github.com/bradleywjenks/CIVE_70019_70057.git\n",
        "  !pip install wntr\n",
        "  !pip install cvxpy\n",
        "  !apt-get install libsuitesparse-dev && pip install scikit-sparse"
      ]
    },
    {
      "cell_type": "code",
      "execution_count": null,
      "id": "Bg3A6sO13PRH",
      "metadata": {
        "id": "Bg3A6sO13PRH"
      },
      "outputs": [],
      "source": [
        "# load packages\n",
        "import numpy as np\n",
        "from numpy import linalg as la\n",
        "import networkx as nx\n",
        "import pandas as pd\n",
        "import wntr\n",
        "import matplotlib.pyplot as plt\n",
        "import matplotlib.cm as cm\n",
        "import copy\n",
        "from datetime import datetime, timedelta\n",
        "import cvxpy as cp\n",
        "import warnings\n",
        "warnings.filterwarnings('ignore')\n",
        "\n",
        "# improve matplotlib image quality\n",
        "plt.rcParams['figure.dpi'] = 300\n",
        "plt.rcParams['savefig.dpi'] = 300\n",
        "import matplotlib_inline\n",
        "matplotlib_inline.backend_inline.set_matplotlib_formats('svg')"
      ]
    },
    {
      "cell_type": "markdown",
      "id": "Im1H-3E-2rNx",
      "metadata": {
        "id": "Im1H-3E-2rNx"
      },
      "source": [
        "### Load network properties and operational data"
      ]
    },
    {
      "cell_type": "markdown",
      "id": "18ff4e16",
      "metadata": {
        "id": "18ff4e16"
      },
      "source": [
        "Load functions created in previous assignments."
      ]
    },
    {
      "cell_type": "code",
      "execution_count": null,
      "id": "3b8e8f67",
      "metadata": {
        "id": "3b8e8f67"
      },
      "outputs": [],
      "source": [
        "# load functions from src folder\n",
        "if 'google.colab' in sys.modules:\n",
        "    sys.path.append('/content/CIVE_70019_70057/src/')\n",
        "    from general_functions import *\n",
        "    from hydraulic_functions import *\n",
        "else:\n",
        "    sys.path.append('/home/bradw/workspace/CIVE_70019_70057/src/')\n",
        "    from general_functions import *\n",
        "    from hydraulic_functions import *"
      ]
    },
    {
      "cell_type": "markdown",
      "id": "8S6RiXY_28PC",
      "metadata": {
        "id": "8S6RiXY_28PC"
      },
      "source": [
        "Load network .inp file and operational data from the module repository's data directory."
      ]
    },
    {
      "cell_type": "code",
      "execution_count": null,
      "id": "x9vbD66O22q_",
      "metadata": {
        "id": "x9vbD66O22q_"
      },
      "outputs": [],
      "source": [
        "if 'google.colab' in sys.modules:\n",
        "    # if run in Google Colab\n",
        "    data_dir = '/content/CIVE_70019_70057/data/parameter_estimation/'\n",
        "    net_dir = '/content/CIVE_70019_70057/data/networks/'\n",
        "else:\n",
        "    # replace with local directory\n",
        "    data_dir = '/home/bradw/workspace/CIVE_70019_70057/data/parameter_estimation/'\n",
        "    net_dir = '/home/bradw/workspace/CIVE_70019_70057/data/networks/'\n",
        "\n",
        "net_name = 'exning.inp'\n",
        "data_name = 'exning_coursework_dataset.npy'\n",
        "\n",
        "# load operational data\n",
        "data = np.load(os.path.join(data_dir, data_name), allow_pickle=True).item()\n",
        "h_data = data['h_data']\n",
        "sensor_idx = data['sensor_idx'] - 1 # matlab to python index offset\n",
        "d_data = data['d']\n",
        "h0_data = data['h0'].reshape(-1, 1).T\n",
        "\n",
        "# load network properties\n",
        "wdn = load_network_data(os.path.join(net_dir, net_name))\n",
        "A12 = wdn.A12\n",
        "A10 = wdn.A10\n",
        "net_info = wdn.net_info\n",
        "link_df = wdn.link_df\n",
        "node_df = wdn.node_df\n",
        "demand_df = wdn.demand_df"
      ]
    },
    {
      "cell_type": "markdown",
      "id": "IVw1luezmfxv",
      "metadata": {
        "id": "IVw1luezmfxv"
      },
      "source": [
        "Plot sensor nodes in network. Make a function for this."
      ]
    },
    {
      "cell_type": "code",
      "execution_count": null,
      "id": "ec181359",
      "metadata": {
        "id": "ec181359"
      },
      "outputs": [],
      "source": [
        "#### DO NOT CHANGE THIS ####\n",
        "# network plotting function\n",
        "def plot_network(wdn, sensor_idx, vals=None, highlight_valves=None):\n",
        "\n",
        "    # unload data\n",
        "    link_df = wdn.link_df\n",
        "    node_df = wdn.node_df\n",
        "    net_info = wdn.net_info\n",
        "    h0_df = wdn.h0_df\n",
        "\n",
        "    # draw network\n",
        "    uG = nx.from_pandas_edgelist(link_df, source='node_out', target='node_in')\n",
        "    pos = {row['node_ID']: (row['xcoord'], row['ycoord']) for _, row in node_df.iterrows()}\n",
        "    nx.draw(uG, pos, node_size=20, node_shape='o')\n",
        "\n",
        "    # draw reservoir\n",
        "    nx.draw_networkx_nodes(uG, pos, nodelist=net_info['reservoir_names'], node_size=100, node_shape='s', node_color='black')\n",
        "\n",
        "    # draw sensor nodes\n",
        "    sensor_names = [net_info['junction_names'][i] for i in sensor_idx]\n",
        "    nx.draw_networkx_nodes(uG, pos, sensor_names, node_size=100, node_shape='o', node_color='red', edgecolors='white')\n",
        "\n",
        "    # reservoir labels\n",
        "    reservoir_labels = {node: 'Reservoir' for node in net_info['reservoir_names']}\n",
        "    labels_res = nx.draw_networkx_labels(uG, pos, reservoir_labels, font_size=12, verticalalignment='top')\n",
        "    for _, label in labels_res.items():\n",
        "        label.set_y(label.get_position()[1] - 1500)\n",
        "\n",
        "    # sensor labels\n",
        "    sensor_labels = {node: str(idx+1) for (idx, node) in enumerate(sensor_names)}\n",
        "    labels_sen = nx.draw_networkx_labels(uG, pos, sensor_labels, font_size=12, verticalalignment='bottom')\n",
        "    for _, label in labels_sen.items():\n",
        "        label.set_y(label.get_position()[1] + 1000)\n",
        "\n",
        "    # plot sensor vals\n",
        "    if vals is not None:\n",
        "\n",
        "        cmap = cm.get_cmap('RdYlGn_r')\n",
        "\n",
        "        # plot residuals\n",
        "        nx.draw_networkx_nodes(uG, pos, nodelist=sensor_names, node_size=100, node_shape='o', node_color=vals, cmap=cmap, edgecolors='white')\n",
        "\n",
        "        # create color bar\n",
        "        sm = plt.cm.ScalarMappable(cmap=cmap)\n",
        "        sm.set_array(vals)\n",
        "        colorbar = plt.colorbar(sm)\n",
        "        colorbar.set_label('Mean pressure residual [m]', fontsize=12)\n",
        "\n",
        "    # highlight link\n",
        "    if highlight_valves is not None:\n",
        "        nx.draw_networkx_nodes(uG, pos, highlight_valves, node_size=200, node_shape='d', node_color='limegreen', edgecolors='white')"
      ]
    },
    {
      "cell_type": "code",
      "execution_count": null,
      "id": "a5a5625f",
      "metadata": {
        "colab": {
          "base_uri": "https://localhost:8080/",
          "height": 501
        },
        "id": "a5a5625f",
        "outputId": "6d63db3d-59d4-4e80-9da3-7b77d4c1d476"
      },
      "outputs": [],
      "source": [
        "plot_network(...)"
      ]
    },
    {
      "cell_type": "markdown",
      "id": "8e4e135d",
      "metadata": {
        "id": "8e4e135d"
      },
      "source": [
        "### Preliminary model evaluation"
      ]
    },
    {
      "cell_type": "markdown",
      "id": "cf326963",
      "metadata": {
        "id": "cf326963"
      },
      "source": [
        "Simulate initial (uncalibrated) network hydraulics over 8 days. We first define a function to solve network hydraulics using the `wntr` package, which we used previously in the hyraulic modelling notebook. The following tasks are performed in this function:\n",
        "- Load network properties\n",
        "- Modify simulation time to match operational data\n",
        "- Assign h0 data at model reservoir\n",
        "- Scale and apply new demand pattern from inflow data\n",
        "- Option to modify pipe roughness (or HW) coefficients\n",
        "\n",
        "<font color=\"blue\">NB: this is done for you below. Provided the correct inputs, you do not need to replicate this function."
      ]
    },
    {
      "cell_type": "code",
      "execution_count": null,
      "id": "8ab6a264",
      "metadata": {
        "id": "8ab6a264"
      },
      "outputs": [],
      "source": [
        "#### DO NOT CHANGE THIS ####\n",
        "# hydraulic solver function\n",
        "def hydraulic_solver(inp_file, d_data, h0_data, C=None, demand=False):\n",
        "\n",
        "    # load network from wntr\n",
        "    inp_file = os.path.join(net_dir, net_name)\n",
        "    wn = wntr.network.WaterNetworkModel(inp_file)\n",
        "\n",
        "    # get network properties\n",
        "    reservoir_names = wn.reservoir_name_list\n",
        "    junction_names = wn.junction_name_list\n",
        "    link_names = wn.link_name_list\n",
        "\n",
        "    # modify simulation time and hydraulic time step\n",
        "    nt = h0_data.shape[1]\n",
        "    wn.options.time.duration = (nt - 1) * 3600\n",
        "    wn.options.time.hydraulic_timestep = 3600\n",
        "    wn.options.time.pattern_timestep = 3600\n",
        "    wn.options.time.report_timestep = 3600\n",
        "\n",
        "    # assign reservoir data\n",
        "    for (i, name) in enumerate(reservoir_names):\n",
        "        wn.add_pattern(f'h0_{i}', h0_data[i])\n",
        "        reservoir = wn.get_node(name)\n",
        "        reservoir.head_timeseries.base_value = 1\n",
        "        reservoir.head_timeseries.pattern_name = wn.get_pattern(f'h0_{i}')\n",
        "\n",
        "    # replace demand data\n",
        "    for idx, name in enumerate(junction_names):\n",
        "\n",
        "        if any(val != 0 for val in d_data[idx, :]):\n",
        "            node = wn.get_node(name)\n",
        "            d_pat = d_data[idx, :]\n",
        "            wn.add_pattern('d_'+name, d_pat)\n",
        "\n",
        "            for (i, num) in enumerate(node.demand_timeseries_list):\n",
        "                if i == 0:\n",
        "                    node.demand_timeseries_list[i].base_value = 1\n",
        "                    node.demand_timeseries_list[i].pattern_name = 'd_'+name\n",
        "                else:\n",
        "                    node.demand_timeseries_list[i].base_value = None\n",
        "                    node.demand_timeseries_list[i].pattern_name = None\n",
        "\n",
        "    # assign roughness (or HW) coefficients\n",
        "    if C is not None:\n",
        "        for name, link in wn.links():\n",
        "\n",
        "            # check if the link is a pipe\n",
        "            if isinstance(link, wntr.network.Pipe):\n",
        "                link.roughness = C[link_names.index(name)]\n",
        "\n",
        "            # check if link is a valve\n",
        "            elif isinstance(link, wntr.network.Valve):\n",
        "                link.minor_loss = C[link_names.index(name)]\n",
        "                link.initial_setting = C[link_names.index(name)]\n",
        "\n",
        "    # run simulation and get results\n",
        "    sim = wntr.sim.EpanetSimulator(wn)\n",
        "    results = sim.run_sim()\n",
        "\n",
        "    q_sim = results.link['flowrate'].T\n",
        "    h_sim = results.node['head'].T\n",
        "    h_sim = h_sim[~h_sim.index.isin(reservoir_names)] # delete reservoir nodes\n",
        "    d = results.node['demand'].T\n",
        "    d = d[~d.index.isin(reservoir_names)] # delete reservoir nodes\n",
        "\n",
        "\n",
        "    if demand == True:\n",
        "        return d.to_numpy()\n",
        "    else:\n",
        "        return q_sim.to_numpy(), h_sim.to_numpy()"
      ]
    },
    {
      "cell_type": "markdown",
      "id": "3ccd2677",
      "metadata": {
        "id": "3ccd2677"
      },
      "source": [
        "Run simulation with initial `C_0` values."
      ]
    },
    {
      "cell_type": "code",
      "execution_count": null,
      "id": "396feded",
      "metadata": {
        "id": "396feded"
      },
      "outputs": [],
      "source": [
        "C_0 = link_df['C'].to_numpy()\n",
        "_, h_0 = hydraulic_solver(...)"
      ]
    },
    {
      "cell_type": "markdown",
      "id": "1529c117",
      "metadata": {
        "id": "1529c117"
      },
      "source": [
        "Compare simulated heads at sensor nodes (node indices in `sensor_idx`) with the simulated heads over the 8-day period. Visualise the results with, e.g., a boxplot of pressure residuals on the test dataset."
      ]
    },
    {
      "cell_type": "code",
      "execution_count": null,
      "id": "f8324840",
      "metadata": {
        "id": "f8324840",
        "outputId": "6d69a4f6-ccda-4ee1-c2f2-bce7531d71fd"
      },
      "outputs": [],
      "source": [
        "# compute pressure residuals\n",
        "residuals_0 = ...\n",
        "\n",
        "# create a figure and axis for the box plots\n",
        "fig, ax = plt.subplots()\n",
        "boxplot = ax.boxplot(residuals_0.T, medianprops=dict(color=\"red\", linewidth=1.0), flierprops=dict(marker=\"+\", markeredgecolor=\"red\"), whiskerprops=dict(linestyle=(5, (8, 5)), linewidth=0.6), boxprops=dict(color='black', linewidth=0.6), capprops=dict(linewidth=0.6))\n",
        "ax.set_xlabel('Sensor index', fontsize=12)\n",
        "ax.set_ylabel('Pressure residual [m]', fontsize=12)"
      ]
    },
    {
      "cell_type": "code",
      "execution_count": null,
      "id": "f7b1c254",
      "metadata": {
        "id": "f7b1c254",
        "outputId": "36d5be79-b435-48e8-ee8b-ea6f8e2f9366"
      },
      "outputs": [],
      "source": [
        "# C_0 value scatter plot (pipes only)\n",
        "pipe_C = [C_0[idx] for idx, row in link_df.iterrows() if row['link_type'] == 'pipe']\n",
        "fig, ax = plt.subplots()\n",
        "ax.scatter(...)\n",
        "ax.set_xlabel('Pipe index', fontsize=12)\n",
        "ax.set_ylabel('C_0 value', fontsize=12)\n",
        "for axis in ['top','bottom','left','right']:\n",
        "    ax.spines[axis].set_linewidth(0.5)"
      ]
    },
    {
      "cell_type": "markdown",
      "id": "b8380051",
      "metadata": {
        "id": "b8380051"
      },
      "source": [
        "**<u>Question 1:</u>** Comment on the results of the preliminary model evaluation. In particular, justify the value of the observed pressure residuals at network sensors. Is the current hydraulic model of EXNING accurate according to hydraulic model calibration guidelines?"
      ]
    },
    {
      "cell_type": "markdown",
      "id": "28ee1f6b",
      "metadata": {
        "id": "28ee1f6b"
      },
      "source": [
        "<font color=\"red\">Enter response here..."
      ]
    },
    {
      "cell_type": "markdown",
      "id": "b9178248",
      "metadata": {
        "id": "b9178248"
      },
      "source": [
        "### Part 1: parameter estimation without pipe grouping + valves fixed"
      ]
    },
    {
      "cell_type": "markdown",
      "id": "b98980ba",
      "metadata": {
        "id": "b98980ba"
      },
      "source": [
        "Based on the initial comparison between simulated and measured pressures, we propose to calibrate the hydraulic model as an inverse parameter estimation problem. We also want to investigate the effect of pipe grouping on the solution of the calibration problem. In Part 1, we do NOT include pipe grouping (i.e. C values are free to vary) and we assume the status of valves is known with local (minor) loss coefficients fixed to C=0.2 (i.e. fully open)."
      ]
    },
    {
      "cell_type": "markdown",
      "id": "773cf9ad",
      "metadata": {
        "id": "773cf9ad"
      },
      "source": [
        "We first need to split the operational data into train and test datasets."
      ]
    },
    {
      "cell_type": "code",
      "execution_count": null,
      "id": "2233eca0",
      "metadata": {
        "id": "2233eca0"
      },
      "outputs": [],
      "source": [
        "# tain data\n",
        "nt_train = 24\n",
        "data_train = {\n",
        "    'd': ...,\n",
        "    'h0': ...,\n",
        "    'h_data': ...\n",
        "}\n",
        "\n",
        "# test data\n",
        "data_test = {\n",
        "    'd': ...,\n",
        "    'h0': ...,\n",
        "    'h_data': ...\n",
        "}"
      ]
    },
    {
      "cell_type": "markdown",
      "id": "622ccaab",
      "metadata": {
        "id": "622ccaab"
      },
      "source": [
        "The loss function is defined as the mean squared error (MSE) between simulated and measured pressures at sensor locations. Make the loss function below..."
      ]
    },
    {
      "cell_type": "code",
      "execution_count": null,
      "id": "175ca0d2",
      "metadata": {
        "id": "175ca0d2"
      },
      "outputs": [],
      "source": [
        "def loss_fun(h, h_data):\n",
        "    return ( 1/len(h_data.flatten()) ) * np.sum( ( ... - ... )**2 )"
      ]
    },
    {
      "cell_type": "markdown",
      "id": "fb78d234",
      "metadata": {
        "id": "fb78d234"
      },
      "source": [
        "Compute MSE for `C_0` values and training data."
      ]
    },
    {
      "cell_type": "code",
      "execution_count": null,
      "id": "65a36bdf",
      "metadata": {
        "id": "65a36bdf"
      },
      "outputs": [],
      "source": [
        "h_0 = ...\n",
        "mse_0 = loss_fun(...)\n",
        "mse_0"
      ]
    },
    {
      "cell_type": "markdown",
      "id": "a38d7711",
      "metadata": {
        "id": "a38d7711"
      },
      "source": [
        "**<u>Question 2:</u>** Briefly describe the problem of hydraulic model calibration and justify the definition of `loss_fun`."
      ]
    },
    {
      "cell_type": "markdown",
      "id": "41c775a2",
      "metadata": {
        "id": "41c775a2"
      },
      "source": [
        "<font color=\"red\">Enter response here..."
      ]
    },
    {
      "cell_type": "markdown",
      "id": "ae82ecc6",
      "metadata": {
        "id": "ae82ecc6"
      },
      "source": [
        "Solve the parameter estimation problem **without** pipe grouping.\n",
        "\n",
        "The following function is needed for the sequential convex programming (SCP) method used in this coursework. <font color=\"blue\">As with the `hydraulic_solver` function, we the following code in `linear_approx_calibration` is provided for you to use throughout this notebook."
      ]
    },
    {
      "cell_type": "code",
      "execution_count": null,
      "id": "67ac4ce4",
      "metadata": {
        "id": "67ac4ce4"
      },
      "outputs": [],
      "source": [
        "#### DO NOT CHANGE THIS ####\n",
        "# compute matrices for the head loss linear approximation of the HW headloss\n",
        "def linear_approx_calibration(wdn, q, C):\n",
        "    # unload data\n",
        "    A12 = wdn.A12\n",
        "    A10 = wdn.A10\n",
        "    net_info = wdn.net_info\n",
        "    link_df = wdn.link_df\n",
        "\n",
        "    K = np.zeros((net_info['np'], 1))\n",
        "    n_exp = link_df['n_exp'].astype(float).to_numpy().reshape(-1, 1)\n",
        "    b1_k = copy.copy(K)\n",
        "    b2_k = copy.copy(K)\n",
        "\n",
        "    for idx, row in link_df.iterrows():\n",
        "        if row['link_type'] == 'pipe':\n",
        "            K[idx] = 10.67 * row['length'] * (C[idx] ** -row['n_exp']) * (row['diameter'] ** -4.8704)\n",
        "            b1_k[idx] = copy.copy(K[idx])\n",
        "            b2_k[idx] = (-n_exp[idx] * K[idx]) / C[idx]\n",
        "\n",
        "        elif row['link_type'] == 'valve':\n",
        "            K[idx] = (8 / (np.pi ** 2 * 9.81)) * (row['diameter'] ** -4) * C[idx]\n",
        "            b1_k[idx] = -n_exp[idx] * copy.copy(K[idx])\n",
        "            b2_k[idx] = copy.copy(K[idx]) / C[idx]\n",
        "\n",
        "    a11_k = np.tile(K, q.shape[1]) * np.abs(q) ** (n_exp - 1)\n",
        "    b1_k = np.tile(b1_k, q.shape[1]) * np.abs(q) ** (n_exp - 1)\n",
        "    b2_k = np.tile(b2_k, q.shape[1]) * np.abs(q) ** (n_exp - 1) * q\n",
        "\n",
        "    return a11_k, b1_k, b2_k"
      ]
    },
    {
      "cell_type": "markdown",
      "id": "b7cbaf70",
      "metadata": {
        "id": "b7cbaf70"
      },
      "source": [
        "SCP implementation using the `cvxpy` modelling interface."
      ]
    },
    {
      "cell_type": "code",
      "execution_count": null,
      "id": "ef1e7d3d",
      "metadata": {
        "id": "ef1e7d3d"
      },
      "outputs": [],
      "source": [
        "# unload network training data\n",
        "n_exp = link_df['n_exp']\n",
        "d = data_train['d']\n",
        "h_data = data_train['h_data']\n",
        "h0 = data_train['h0'].reshape(-1, 1).T\n",
        "\n",
        "# define problem parameters\n",
        "Ki = np.inf\n",
        "iter_max = 50\n",
        "delta_k = 20\n",
        "C_up_pipe = 200\n",
        "C_lo_pipe = 0\n",
        "\n",
        "# initialise values\n",
        "theta_k = ...\n",
        "q_k, h_k = hydraulic_solver(...)\n",
        "a11_k, b1_k, b2_k = linear_approx_calibration(...)\n",
        "objval_k = loss_fun(...)\n",
        "\n",
        "### main scp code ###\n",
        "for k in range(iter_max):\n",
        "\n",
        "    # decision variables\n",
        "    q = ...\n",
        "    h = ...\n",
        "    theta = ...\n",
        "\n",
        "    # objective function (defined using CVXPY functions)\n",
        "    loss = ( 1/len(h_data.flatten()) ) * cp.sum_squares( ... )\n",
        "    objective = cp.Minimize(...)\n",
        "\n",
        "    # hydraulic feasibility constraints\n",
        "    constraints = []\n",
        "    for t in range(nt_train):\n",
        "        # energy and mass constraints\n",
        "        constraints += [\n",
        "          ...\n",
        "        ]\n",
        "\n",
        "    # trust region constraints\n",
        "    constraints += [\n",
        "        ...\n",
        "    ]\n",
        "\n",
        "    # variable bounds\n",
        "    lower_bound_pipe = [...]\n",
        "    constraints += ...\n",
        "    upper_bound_pipe = [...]\n",
        "    constraints += ...\n",
        "\n",
        "    # valve minor loss coefficient constraints\n",
        "    valve_constraints = [...]\n",
        "    constraints += ...\n",
        "\n",
        "    # solve optimisation problem\n",
        "    problem = cp.Problem(objective, constraints)\n",
        "    cvx_val = problem.solve(solver=cp.ECOS, verbose=False)\n",
        "\n",
        "    # store optimal solution and compute actual and predicted decrease in objval\n",
        "    theta_tilde = theta.value\n",
        "    [q_tilde, h_tilde] = hydraulic_solver(...)\n",
        "    objval_tilde = loss_fun(...)\n",
        "\n",
        "    predicted_decrease = ...\n",
        "    actual_decrease = ...\n",
        "\n",
        "    # evaluate latest SCP iteration\n",
        "    if actual_decrease / predicted_decrease >= 0.1:\n",
        "        objval_old = objval_k\n",
        "        theta_k = theta_tilde\n",
        "        q_k = q_tilde\n",
        "        h_k = h_tilde\n",
        "        objval_k = objval_tilde\n",
        "        a11_k, b1_k, b2_k = linear_approx_calibration(...)\n",
        "        Ki = np.abs(objval_old - objval_k) / np.abs(objval_old)\n",
        "        delta_k = 1.1 * delta_k\n",
        "        print(f\"Iteration {k} ...! Update estimate and ... trust region size. \\n\")\n",
        "\n",
        "    else:\n",
        "        delta_k = 0.25 * delta_k\n",
        "        print(f\"Iteration {k} un...! Return to previous estimate and ... trust region size. \\n\")\n",
        "\n",
        "    print(f\"{k} {objval_k} {Ki} {delta_k} \\n\")\n",
        "\n",
        "    if Ki <= 1e-3 or np.abs(objval_k) <= 1e-2 or delta_k <= 1e-1:\n",
        "        break"
      ]
    },
    {
      "cell_type": "markdown",
      "id": "9ba17cc5",
      "metadata": {
        "id": "9ba17cc5"
      },
      "source": [
        "**<u>Question 3:</u>** Describe the nature/role of the different outputs of the SCP algorithm printed above (objvalk, Ki, Deltak) and explain their trends."
      ]
    },
    {
      "cell_type": "markdown",
      "id": "b062648a",
      "metadata": {
        "id": "b062648a"
      },
      "source": [
        "<font color=\"red\">Enter response here..."
      ]
    },
    {
      "cell_type": "code",
      "execution_count": null,
      "id": "2d41fe87",
      "metadata": {
        "id": "2d41fe87"
      },
      "outputs": [],
      "source": [
        "C_1 = theta_k\n",
        "\n",
        "# compute train mse\n",
        "mse_train_1 = loss_fun(...)\n",
        "mse_train_1"
      ]
    },
    {
      "cell_type": "markdown",
      "id": "210422ca",
      "metadata": {
        "id": "210422ca"
      },
      "source": [
        "Evaluate results on test dataset."
      ]
    },
    {
      "cell_type": "code",
      "execution_count": null,
      "id": "5501ea68",
      "metadata": {
        "id": "5501ea68"
      },
      "outputs": [],
      "source": [
        "# compute hydraulics\n",
        "_, h_test = hydraulic_solver(...)\n",
        "\n",
        "# compute test mse\n",
        "mse_test_1 = loss_fun(...)\n",
        "mse_test_1"
      ]
    },
    {
      "cell_type": "code",
      "execution_count": null,
      "id": "22ca47cc",
      "metadata": {
        "id": "22ca47cc",
        "outputId": "3d3a1e57-536b-4cc8-8f8b-f782de340526"
      },
      "outputs": [],
      "source": [
        "# compute pressure residuals\n",
        "residuals_1 = ...\n",
        "\n",
        "# create a figure and axis for the box plots here\n",
        "fig, ax = plt.subplots()\n",
        "boxplot = ..."
      ]
    },
    {
      "cell_type": "markdown",
      "id": "ae67620d",
      "metadata": {
        "id": "ae67620d"
      },
      "source": [
        "**<u>Question 4:</u>** Briefly comment on the improvement in model accuracy (before vs. after calibration). According to hydraulic model calibration guidelines (i.e. 95% of simulated heads within 2m of measurements), can the new model be considered \"calibrated\"?"
      ]
    },
    {
      "cell_type": "markdown",
      "id": "b08167ab",
      "metadata": {
        "id": "b08167ab"
      },
      "source": [
        "<font color=\"red\">Enter response here..."
      ]
    },
    {
      "cell_type": "code",
      "execution_count": null,
      "id": "736b2629",
      "metadata": {
        "id": "736b2629",
        "outputId": "8579628d-03ae-4170-b5b2-1f062566dde2"
      },
      "outputs": [],
      "source": [
        "# generate C_1 value scatter plot (pipes only)"
      ]
    },
    {
      "cell_type": "markdown",
      "id": "b57cf8b9",
      "metadata": {
        "id": "b57cf8b9"
      },
      "source": [
        "**<u>Question 5:</u>** Comment on the results of the model calibration without pipe grouping. In particular, discuss the calibrated `c_1` values. Are these realistic?"
      ]
    },
    {
      "cell_type": "markdown",
      "id": "505a4733",
      "metadata": {
        "id": "505a4733"
      },
      "source": [
        "<font color=\"red\">Enter response here..."
      ]
    },
    {
      "cell_type": "markdown",
      "id": "1aa666e0",
      "metadata": {
        "id": "1aa666e0"
      },
      "source": [
        "### Part 2: parameter estimation with pipe grouping + valves fixed"
      ]
    },
    {
      "cell_type": "markdown",
      "id": "938c7210",
      "metadata": {
        "id": "938c7210"
      },
      "source": [
        "Load pipe grouping information."
      ]
    },
    {
      "cell_type": "code",
      "execution_count": null,
      "id": "8fe72e3a",
      "metadata": {
        "id": "8fe72e3a"
      },
      "outputs": [],
      "source": [
        "link_groups = data['G'][0] - 1 # matlab to python index offset\n",
        "ng = link_groups.shape[0]\n",
        "thetaG_lo = data['thetaG_min'][:, 0]\n",
        "thetaG_up = data['thetaG_max'][:, 0]"
      ]
    },
    {
      "cell_type": "markdown",
      "id": "e708216e",
      "metadata": {
        "id": "e708216e"
      },
      "source": [
        "Main SCP code **with** pipe grouping."
      ]
    },
    {
      "cell_type": "code",
      "execution_count": null,
      "id": "f15a09c4",
      "metadata": {
        "id": "f15a09c4"
      },
      "outputs": [],
      "source": [
        "# unload network training data\n",
        "n_exp = link_df['n_exp']\n",
        "d = data_train['d']\n",
        "h_data = data_train['h_data']\n",
        "h0 = data_train['h0'].reshape(-1, 1).T\n",
        "\n",
        "# define problem parameters\n",
        "Ki = np.inf\n",
        "iter_max = 50\n",
        "delta_k = 20\n",
        "C_up_pipe = 200\n",
        "C_lo_pipe = 0\n",
        "\n",
        "# initialise values\n",
        "theta_k = ...\n",
        "q_k, h_k = hydraulic_solver(...)\n",
        "a11_k, b1_k, b2_k = linear_approx_calibration(...)\n",
        "objval_k = loss_fun(...)\n",
        "\n",
        "### main scp code ###\n",
        "for k in range(iter_max):\n",
        "\n",
        "    # decision variables\n",
        "    q = ...\n",
        "    h = ...\n",
        "    theta = ...\n",
        "    thetaG = cp.Variable(ng)\n",
        "\n",
        "    # objective function (defined using CVXPY functions)\n",
        "    loss = ( 1/len(h_data.flatten()) ) * cp.sum_squares( ... )\n",
        "    objective = cp.Minimize(...)\n",
        "\n",
        "    # hydraulic feasibility constraints\n",
        "    constraints = []\n",
        "    for t in range(nt_train):\n",
        "        # energy and mass constraints\n",
        "        constraints += [\n",
        "            ...,\n",
        "            ...\n",
        "        ]\n",
        "\n",
        "    # trust region constraints\n",
        "    constraints += [\n",
        "       ...\n",
        "    ]\n",
        "\n",
        "    # pipe grouping constraints\n",
        "    for j in range(ng):\n",
        "\n",
        "        # equality constraints\n",
        "        for idx in link_groups[j]:\n",
        "            constraints += [\n",
        "                ...\n",
        "            ]\n",
        "\n",
        "        # pipe grouping bounds\n",
        "        constraints += [\n",
        "            thetaG[j] >= ...,\n",
        "            thetaG[j] <= ...\n",
        "        ]\n",
        "\n",
        "    # C bounds\n",
        "    lower_bound_pipe = [...]\n",
        "    constraints += ...\n",
        "    upper_bound_pipe = [...]\n",
        "    constraints += ...\n",
        "\n",
        "    # valve minor loss coefficient constraints\n",
        "    valve_constraints = ...\n",
        "    constraints += ...\n",
        "\n",
        "    # solve optimisation problem\n",
        "    problem = cp.Problem(objective, constraints)\n",
        "    cvx_val = problem.solve(solver=cp.ECOS, verbose=False)\n",
        "\n",
        "    # store optimal solution and compute actual and predicted decrease in objval\n",
        "    theta_tilde = theta.value\n",
        "    thetaG_tilde = thetaG.value\n",
        "    q_tilde, h_tilde = hydraulic_solver(...)\n",
        "    objval_tilde = loss_fun(...)\n",
        "\n",
        "    predicted_decrease = ...\n",
        "    actual_decrease = ...\n",
        "\n",
        "    # evaluate latest SCP iteration\n",
        "    if actual_decrease / predicted_decrease >= 0.1:\n",
        "        objval_old = objval_k\n",
        "        theta_k = theta_tilde\n",
        "        thetaG_k = thetaG_tilde\n",
        "        q_k = q_tilde\n",
        "        h_k = h_tilde\n",
        "        objval_k = objval_tilde\n",
        "        a11_k, b1_k, b2_k = linear_approx_calibration(...)\n",
        "        Ki = ...\n",
        "        delta_k = 1.1 * delta_k\n",
        "        print(f\"...\")\n",
        "\n",
        "    else:\n",
        "        delta_k = 0.25 * delta_k\n",
        "        print(f\"...\")\n",
        "\n",
        "    print(f\"{k} {objval_k} {Ki} {delta_k} \\n\")\n",
        "\n",
        "    if Ki <= 1e-3 or np.abs(objval_k) <= 1e-2 or delta_k <= 1e-1:\n",
        "        break"
      ]
    },
    {
      "cell_type": "code",
      "execution_count": null,
      "id": "cc1e1ab7",
      "metadata": {
        "id": "cc1e1ab7",
        "outputId": "eed3f979-fc2d-4c00-f72c-ece7d3d644ff"
      },
      "outputs": [],
      "source": [
        "C_2 = ...\n",
        "\n",
        "# compute train mse\n",
        "mse_train_2 = loss_fun(...)\n",
        "mse_train_2"
      ]
    },
    {
      "cell_type": "markdown",
      "id": "b6be8b09",
      "metadata": {
        "id": "b6be8b09"
      },
      "source": [
        "Evaluate results on test dataset."
      ]
    },
    {
      "cell_type": "code",
      "execution_count": null,
      "id": "8ce78d4f",
      "metadata": {
        "id": "8ce78d4f",
        "outputId": "16918cb9-44cd-4bb5-82d7-5a59ed6059f8"
      },
      "outputs": [],
      "source": [
        "# compute hydraulics\n",
        "_, h_test = hydraulic_solver(...)\n",
        "\n",
        "# compute test mse\n",
        "mse_test_2 = loss_fun(...)\n",
        "mse_test_2"
      ]
    },
    {
      "cell_type": "code",
      "execution_count": null,
      "id": "7d4add89",
      "metadata": {
        "id": "7d4add89",
        "outputId": "18eb46ec-4188-4230-c49c-3f22cd3a88dc"
      },
      "outputs": [],
      "source": [
        "# compute pressure residuals\n",
        "residuals_2 = ...\n",
        "\n",
        "# create a figure and axis for the box plots here\n",
        "fig, ax = plt.subplots()\n",
        "boxplot = ..."
      ]
    },
    {
      "cell_type": "markdown",
      "id": "70a0a0c3",
      "metadata": {
        "id": "70a0a0c3"
      },
      "source": [
        "**<u>Question 6:</u>** Comment on the difference in model accuracy after calibration with ($C_2$) and without ($C1$) pipe grouping. According to hydraulic model calibration guidelines, can the model with $C_2$ parameters be considered \"calibrated\"?"
      ]
    },
    {
      "cell_type": "markdown",
      "id": "379baf34",
      "metadata": {
        "id": "379baf34"
      },
      "source": [
        "<font color=\"red\">Enter response here..."
      ]
    },
    {
      "cell_type": "code",
      "execution_count": null,
      "id": "5bdc5a2a",
      "metadata": {
        "id": "5bdc5a2a",
        "outputId": "e468f45e-1bd3-4015-fc39-3c4580f50fd2"
      },
      "outputs": [],
      "source": [
        "# generate C_2 value scatter plot (pipes only)"
      ]
    },
    {
      "cell_type": "markdown",
      "id": "0666d7c2",
      "metadata": {
        "id": "0666d7c2"
      },
      "source": [
        "**<u>Question 8:</u>** Comment on the values of the H-W coefficient estimates in $C_2$ compared to $C_1$. Explain the differences (if any)."
      ]
    },
    {
      "cell_type": "markdown",
      "id": "fab55e66",
      "metadata": {
        "id": "fab55e66"
      },
      "source": [
        "<font color=\"red\">Enter response here..."
      ]
    },
    {
      "cell_type": "markdown",
      "id": "15e8f429",
      "metadata": {
        "id": "15e8f429"
      },
      "source": [
        "#### Identify sensors with largest residuals"
      ]
    },
    {
      "cell_type": "code",
      "execution_count": null,
      "id": "051232f1",
      "metadata": {
        "id": "051232f1",
        "outputId": "7da0d3a9-0bb9-4357-ef28-804886b7f490"
      },
      "outputs": [],
      "source": [
        "# spatial residuals plot\n",
        "mean_residuals_2 = np.mean(...)\n",
        "plot_network(wdn, sensor_idx, vals=...) # call network plotting function"
      ]
    },
    {
      "cell_type": "markdown",
      "id": "917dbf21",
      "metadata": {
        "id": "917dbf21"
      },
      "source": [
        "**<u>Question 9:</u>** Interpret the deviations observed between simulated and measured pressures by addressing the following questions:\n",
        "* Are the values of the pressure residuals evenly distributed around 0?\n",
        "* Does the hydraulic model over- or under-estimate pressure heads?\n",
        "* What could the nature and location of the fault causing these residuals be?"
      ]
    },
    {
      "cell_type": "markdown",
      "id": "6769b2e6",
      "metadata": {
        "id": "6769b2e6"
      },
      "source": [
        "<font color=\"red\">Enter response here..."
      ]
    },
    {
      "cell_type": "markdown",
      "id": "ea707f91",
      "metadata": {
        "id": "ea707f91"
      },
      "source": [
        "### Part 3: parameter estimation with pipe grouping + valve coefficients"
      ]
    },
    {
      "cell_type": "markdown",
      "id": "fd7ac20c",
      "metadata": {
        "id": "fd7ac20c"
      },
      "source": [
        "The H-W coefficients in `C_2` (obtained by solving the parameter estimation problem with pipe grouping) result in larger residuals between measured and simulated pressures. Large, localised deviations between measured and simulated pressures can occur as the result of unknown changes in the network (or faults), such as unknowingly closed valves for instance. In particular, faults associated with an unknown valve status can be located by solving a model calibration problem where valve loss coefficients are free to vary.\n",
        "In this part of the coursework, you are encouraged to propose and investigate an approach to solving the **single** fault localisation problem. You may follow the suggested steps below\n",
        "\n",
        "Approach to solving the fault localisation problem:\n",
        "1. Modify the CVXPY implementation in Part 2 to allow valve loss coefficient estimates to vary. Solve the resulting parameter estimation problem and interpret the optimal value of `C_3`.\n",
        "2. Consider the expected values of valve loss coefficient estimates `C_3` in the single fault localisation problem. Modify the CVXPY implementation by including a regularisation term in the objective function to account for the nature of the single fault localisation problem. Interpret your results accordingly.\n",
        "3. Compare the results of Part 3 with Part 2 and explain whether they contradict or corroborate your previous conclusions about the nature and location of the detected fault."
      ]
    },
    {
      "cell_type": "markdown",
      "id": "1a3b0a1b",
      "metadata": {
        "id": "1a3b0a1b"
      },
      "source": [
        "#### Part 3a: free valve coefficients"
      ]
    },
    {
      "cell_type": "markdown",
      "id": "58ffd6b9",
      "metadata": {
        "id": "58ffd6b9"
      },
      "source": [
        "Load pipe grouping data."
      ]
    },
    {
      "cell_type": "code",
      "execution_count": null,
      "id": "a0762a23",
      "metadata": {
        "id": "a0762a23"
      },
      "outputs": [],
      "source": [
        "# insert code here..."
      ]
    },
    {
      "cell_type": "markdown",
      "id": "a9ab2bef",
      "metadata": {
        "id": "a9ab2bef"
      },
      "source": [
        "Main SCP code."
      ]
    },
    {
      "cell_type": "code",
      "execution_count": null,
      "id": "b82c6f89",
      "metadata": {
        "id": "b82c6f89"
      },
      "outputs": [],
      "source": [
        "# insert code here..."
      ]
    },
    {
      "cell_type": "code",
      "execution_count": null,
      "id": "b8001660",
      "metadata": {
        "id": "b8001660"
      },
      "outputs": [],
      "source": [
        "C_3a = ...\n",
        "\n",
        "# compute train mse\n",
        "mse_train_3a = loss_fun(...)\n",
        "mse_train_3a"
      ]
    },
    {
      "cell_type": "markdown",
      "id": "ced16175",
      "metadata": {
        "id": "ced16175"
      },
      "source": [
        "Evaluate results on test dataset."
      ]
    },
    {
      "cell_type": "code",
      "execution_count": null,
      "id": "890080bd",
      "metadata": {
        "id": "890080bd"
      },
      "outputs": [],
      "source": [
        "# compute hydraulics\n",
        "_, h_test = hydraulic_solver(...)\n",
        "\n",
        "# compute test mse\n",
        "mse_test_3a = loss_fun(...)\n",
        "mse_test_3a"
      ]
    },
    {
      "cell_type": "code",
      "execution_count": null,
      "id": "9356e8e1",
      "metadata": {
        "id": "9356e8e1",
        "outputId": "7cfec07b-909a-436c-f90a-5f5175e8e12d"
      },
      "outputs": [],
      "source": [
        "# compute pressure residuals\n",
        "residuals_3a = ...\n",
        "\n",
        "# create a figure and axis for the box plots here\n",
        "fig, ax = plt.subplots()\n",
        "boxplot = ..."
      ]
    },
    {
      "cell_type": "code",
      "execution_count": null,
      "id": "0f63915b",
      "metadata": {
        "id": "0f63915b",
        "outputId": "54982a34-eee3-4523-b919-9dac752d6240"
      },
      "outputs": [],
      "source": [
        "# generate C_3a value scatter plot (pipes)"
      ]
    },
    {
      "cell_type": "code",
      "execution_count": null,
      "id": "70fda385",
      "metadata": {
        "id": "70fda385",
        "outputId": "710f2583-36cf-4209-f0e5-1e95acac7f23"
      },
      "outputs": [],
      "source": [
        "# C_3a value scatter plot (valves)\n",
        "valve_C = [...]\n",
        "fig, ax = plt.subplots()\n",
        "ax.scatter(...)"
      ]
    },
    {
      "cell_type": "code",
      "execution_count": null,
      "id": "cdcfb917",
      "metadata": {
        "id": "cdcfb917",
        "outputId": "de4b670d-8e31-49b7-b9b7-a4f9cb7dbe5f"
      },
      "outputs": [],
      "source": [
        "# spatial residuals plot\n",
        "mean_residuals_3a = ...\n",
        "plot_network(...)"
      ]
    },
    {
      "cell_type": "markdown",
      "id": "abf3d5cf",
      "metadata": {
        "id": "abf3d5cf"
      },
      "source": [
        "**Results discussion**:\n",
        "\n",
        "<font color=\"red\">Enter response here..."
      ]
    },
    {
      "cell_type": "markdown",
      "id": "6071c60f",
      "metadata": {
        "id": "6071c60f"
      },
      "source": [
        "#### Part 3b: free valve coefficients + L1-norm regularisation\n",
        "We assume that potential faults are unlikely to occur simultaneously and the vector $ \\|C(\\text{valves}) - \\theta(\\text{valves})\\| $ is therefore expected to be **sparse**.\n",
        "\n",
        "Ridge regression (L2-regularisation) shrinks parameter estimates (without actually driving them to 0) to reduce variance and improve prediction accuracy, while lasso regression (L1-regularisation) encourages sparsity, driving many parameter estimates exactly to zero."
      ]
    },
    {
      "cell_type": "markdown",
      "id": "627fc907",
      "metadata": {
        "id": "627fc907"
      },
      "source": [
        "Define regularisation term."
      ]
    },
    {
      "cell_type": "code",
      "execution_count": null,
      "id": "1f0272b5",
      "metadata": {
        "id": "1f0272b5"
      },
      "outputs": [],
      "source": [
        "valve_idx = link_df.index[link_df['link_type'] == 'valve'].tolist()\n",
        "rho = 0 # adjust accordingly\n",
        "def valve_reg_fun(theta):\n",
        "    return rho * (1 / len(valve_idx)) * la.norm(..., ...) # define norm-1 or -2 regularisation term"
      ]
    },
    {
      "cell_type": "markdown",
      "id": "0e00cfc4",
      "metadata": {
        "id": "0e00cfc4"
      },
      "source": [
        "Main SCP code."
      ]
    },
    {
      "cell_type": "code",
      "execution_count": null,
      "id": "00207fdc",
      "metadata": {
        "id": "00207fdc"
      },
      "outputs": [],
      "source": [
        "# insert code here\n",
        "# recall that cvxpy has its own functions (hint: la.norm needs to be replaced with cp.norm)"
      ]
    },
    {
      "cell_type": "code",
      "execution_count": null,
      "id": "0aed3f06",
      "metadata": {
        "id": "0aed3f06"
      },
      "outputs": [],
      "source": [
        "C_3b = ...\n",
        "\n",
        "# compute train mse\n",
        "mse_train_3b = loss_fun(...)\n",
        "mse_train_3b"
      ]
    },
    {
      "cell_type": "markdown",
      "id": "bb85b30e",
      "metadata": {
        "id": "bb85b30e"
      },
      "source": [
        "Evaluate results on test dataset."
      ]
    },
    {
      "cell_type": "code",
      "execution_count": null,
      "id": "48bca0e0",
      "metadata": {
        "id": "48bca0e0"
      },
      "outputs": [],
      "source": [
        "# compute hydraulics\n",
        "_, h_test = hydraulic_solver(...)\n",
        "\n",
        "# compute test mse\n",
        "mse_test_3b = loss_fun(...)\n",
        "mse_test_3b"
      ]
    },
    {
      "cell_type": "code",
      "execution_count": null,
      "id": "6b700ff9",
      "metadata": {
        "id": "6b700ff9",
        "outputId": "0eb0612c-19fb-44cd-fce5-87c078762883"
      },
      "outputs": [],
      "source": [
        "# compute pressure residuals\n",
        "residuals_3b = ...\n",
        "\n",
        "# create a figure and axis for the box plots\n",
        "fig, ax = plt.subplots()\n",
        "boxplot = ..."
      ]
    },
    {
      "cell_type": "code",
      "execution_count": null,
      "id": "7e7d1134",
      "metadata": {
        "id": "7e7d1134",
        "outputId": "8d58cb4e-0ce5-49e0-f48e-f466b3d4486a"
      },
      "outputs": [],
      "source": [
        "# generate C_3b value scatter plot (pipes)"
      ]
    },
    {
      "cell_type": "code",
      "execution_count": null,
      "id": "b8bbe7a8",
      "metadata": {
        "id": "b8bbe7a8",
        "outputId": "3e8fcbce-7c42-4e6f-88d7-1f09d2836d63"
      },
      "outputs": [],
      "source": [
        "# C_3b value scatter plot (valves)\n",
        "valve_C = [...]\n",
        "fig, ax = plt.subplots()\n",
        "ax.scatter(...)"
      ]
    },
    {
      "cell_type": "code",
      "execution_count": null,
      "id": "908e3153",
      "metadata": {
        "id": "908e3153",
        "outputId": "0cc86de8-7da0-4a58-d4cc-a3c1e273aa73"
      },
      "outputs": [],
      "source": [
        "# spatial residuals plot\n",
        "mean_residuals_3b = ...\n",
        "plot_network(...)"
      ]
    },
    {
      "cell_type": "markdown",
      "id": "b3f4c6b6",
      "metadata": {
        "id": "b3f4c6b6"
      },
      "source": [
        "Plot faulty valve locations."
      ]
    },
    {
      "cell_type": "code",
      "execution_count": null,
      "id": "0af5896e",
      "metadata": {
        "id": "0af5896e"
      },
      "outputs": [],
      "source": [
        "# find indices of faulty valves and corresponding downstream nodes\n",
        "valve_C = ...\n",
        "valve_nodes = link_df.loc[valve_C, 'node_out'].tolist()"
      ]
    },
    {
      "cell_type": "code",
      "execution_count": null,
      "id": "7cce1a28",
      "metadata": {
        "id": "7cce1a28",
        "outputId": "e7bc31db-5828-4b2a-ac4b-db31ea873519"
      },
      "outputs": [],
      "source": [
        "plot_network(..., highlight_valves=...)"
      ]
    },
    {
      "cell_type": "markdown",
      "id": "d9a6ce1a",
      "metadata": {
        "id": "d9a6ce1a"
      },
      "source": [
        "**Results discussion**:\n",
        "\n",
        "<font color=\"red\">Enter response here..."
      ]
    }
  ],
  "metadata": {
    "colab": {
      "include_colab_link": true,
      "provenance": []
    },
    "kernelspec": {
      "display_name": "Python 3 (ipykernel)",
      "language": "python",
      "name": "python3"
    },
    "language_info": {
      "codemirror_mode": {
        "name": "ipython",
        "version": 3
      },
      "file_extension": ".py",
      "mimetype": "text/x-python",
      "name": "python",
      "nbconvert_exporter": "python",
      "pygments_lexer": "ipython3",
      "version": "3.10.11"
    }
  },
  "nbformat": 4,
  "nbformat_minor": 5
}
